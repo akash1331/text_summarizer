{
  "cells": [
    {
      "cell_type": "markdown",
      "metadata": {
        "id": "view-in-github"
      },
      "source": [
        "<a href=\"https://colab.research.google.com/github/maheshmahi1729/DeepLearning-Colab/blob/main/text_summarization1.ipynb\" target=\"_parent\"><img src=\"https://colab.research.google.com/assets/colab-badge.svg\" alt=\"Open In Colab\"/></a>"
      ],
      "id": "view-in-github"
    },
    {
      "cell_type": "code",
      "execution_count": 1,
      "id": "rraU57NxnUbT",
      "metadata": {
        "id": "rraU57NxnUbT"
      },
      "outputs": [],
      "source": [
        "# from google.colab import drive \n",
        "# drive.mount(\"/content/drive\",force_remount=True)"
      ]
    },
    {
      "cell_type": "code",
      "execution_count": 2,
      "id": "lSJPyxa0RYpX",
      "metadata": {
        "id": "lSJPyxa0RYpX",
        "scrolled": false
      },
      "outputs": [],
      "source": [
        "from attention import AttentionLayer"
      ]
    },
    {
      "cell_type": "code",
      "execution_count": 3,
      "id": "fc29d13c",
      "metadata": {
        "id": "fc29d13c",
        "colab": {
          "base_uri": "https://localhost:8080/"
        },
        "outputId": "8a8badf4-3c0c-43f5-a29e-16a82f001a99"
      },
      "outputs": [
        {
          "output_type": "stream",
          "name": "stderr",
          "text": [
            "[nltk_data] Downloading package stopwords to /root/nltk_data...\n",
            "[nltk_data]   Package stopwords is already up-to-date!\n"
          ]
        }
      ],
      "source": [
        "import nltk\n",
        "nltk.download('stopwords')\n",
        "import numpy as np  \n",
        "import pandas as pd \n",
        "import re\n",
        "from bs4 import BeautifulSoup \n",
        "from keras.preprocessing.text import Tokenizer \n",
        "from keras_preprocessing.sequence import pad_sequences\n",
        "from nltk.corpus import stopwords   \n",
        "from tensorflow.keras.layers import Input, LSTM, Embedding, Dense, Concatenate, TimeDistributed, Bidirectional\n",
        "from tensorflow.keras.models import Model\n",
        "from tensorflow.keras.callbacks import EarlyStopping\n",
        "import warnings\n",
        "pd.set_option(\"display.max_colwidth\", 200)\n",
        "warnings.filterwarnings(\"ignore\")"
      ]
    },
    {
      "cell_type": "code",
      "execution_count": 4,
      "id": "599c8231",
      "metadata": {
        "id": "599c8231",
        "colab": {
          "base_uri": "https://localhost:8080/",
          "height": 441
        },
        "outputId": "f95b943e-9cd2-4c2e-f462-02de5c80422b"
      },
      "outputs": [
        {
          "output_type": "stream",
          "name": "stdout",
          "text": [
            "(2000, 3)\n"
          ]
        },
        {
          "output_type": "execute_result",
          "data": {
            "text/plain": [
              "            FileName  \\\n",
              "0  S0262885614000857   \n",
              "1  S0169260715300419   \n",
              "2  S0169260715003260   \n",
              "3  S0262885613001443   \n",
              "4  S0262885614000511   \n",
              "\n",
              "                                                                                                                                                                                                  Abstract  \\\n",
              "0   This paper introduces four classes of rotation invariant orthogonal moments by generalizing four existing moments that use harmonic functions in their radial kernels . Members of these classes sh...   \n",
              "1   In this paper a MATLAB based graphical user interface software tool for general biomedical signal processing and analysis of functional neuroimaging data is introduced . Specifically electroencep...   \n",
              "2   Background and objective A markerless low cost prototype has been developed for the determination of some spatio temporal parameters of human gait step length step width and cadence have been con...   \n",
              "3   This paper presents an improved multiple instance learning tracker representing target with Distribution Fields and building a weighted geometric mean MIL classifier . Firstly we adopt DF layer a...   \n",
              "4   Text based image retrieval may perform poorly due to the irrelevant and or incomplete text surrounding the images in the web pages . In such situations visual content of the images can be leverag...   \n",
              "\n",
              "                                                                                                                                                                                                       RHS  \n",
              "0  We generalize polar harmonic transforms for pattern description recognition. The generalization maintains beneficial properties of existing transforms. The completeness of the corresponding basis ...  \n",
              "1  Design of a MATLAB based GUI tool for general biomedical signal processing and analysis. EEG and ECG signals can be processed and analyzed by the designed tool. The easy to use and easy to learn i...  \n",
              "2  A markerless low cost system for the estimation of some spatial temporal parameters of human gait. A system usable on not instrumented treadmill. A system characterized by a very high level of aut...  \n",
              "3  We adopt Distribution Field DF layer as feature instead of traditional Haar like one to robustly model the target. We derive an online weighted geometric mean MIL classifier to select the most dis...  \n",
              "4  A system that constructs multi instance bags from text based retrieval order. Ensemble of MI classifiers is learned using these multi instance bags. We report image re ranking performance on multi...  "
            ],
            "text/html": [
              "\n",
              "  <div id=\"df-9bf10e9b-55b3-4977-b33d-5af7eaebd00f\">\n",
              "    <div class=\"colab-df-container\">\n",
              "      <div>\n",
              "<style scoped>\n",
              "    .dataframe tbody tr th:only-of-type {\n",
              "        vertical-align: middle;\n",
              "    }\n",
              "\n",
              "    .dataframe tbody tr th {\n",
              "        vertical-align: top;\n",
              "    }\n",
              "\n",
              "    .dataframe thead th {\n",
              "        text-align: right;\n",
              "    }\n",
              "</style>\n",
              "<table border=\"1\" class=\"dataframe\">\n",
              "  <thead>\n",
              "    <tr style=\"text-align: right;\">\n",
              "      <th></th>\n",
              "      <th>FileName</th>\n",
              "      <th>Abstract</th>\n",
              "      <th>RHS</th>\n",
              "    </tr>\n",
              "  </thead>\n",
              "  <tbody>\n",
              "    <tr>\n",
              "      <th>0</th>\n",
              "      <td>S0262885614000857</td>\n",
              "      <td>This paper introduces four classes of rotation invariant orthogonal moments by generalizing four existing moments that use harmonic functions in their radial kernels . Members of these classes sh...</td>\n",
              "      <td>We generalize polar harmonic transforms for pattern description recognition. The generalization maintains beneficial properties of existing transforms. The completeness of the corresponding basis ...</td>\n",
              "    </tr>\n",
              "    <tr>\n",
              "      <th>1</th>\n",
              "      <td>S0169260715300419</td>\n",
              "      <td>In this paper a MATLAB based graphical user interface software tool for general biomedical signal processing and analysis of functional neuroimaging data is introduced . Specifically electroencep...</td>\n",
              "      <td>Design of a MATLAB based GUI tool for general biomedical signal processing and analysis. EEG and ECG signals can be processed and analyzed by the designed tool. The easy to use and easy to learn i...</td>\n",
              "    </tr>\n",
              "    <tr>\n",
              "      <th>2</th>\n",
              "      <td>S0169260715003260</td>\n",
              "      <td>Background and objective A markerless low cost prototype has been developed for the determination of some spatio temporal parameters of human gait step length step width and cadence have been con...</td>\n",
              "      <td>A markerless low cost system for the estimation of some spatial temporal parameters of human gait. A system usable on not instrumented treadmill. A system characterized by a very high level of aut...</td>\n",
              "    </tr>\n",
              "    <tr>\n",
              "      <th>3</th>\n",
              "      <td>S0262885613001443</td>\n",
              "      <td>This paper presents an improved multiple instance learning tracker representing target with Distribution Fields and building a weighted geometric mean MIL classifier . Firstly we adopt DF layer a...</td>\n",
              "      <td>We adopt Distribution Field DF layer as feature instead of traditional Haar like one to robustly model the target. We derive an online weighted geometric mean MIL classifier to select the most dis...</td>\n",
              "    </tr>\n",
              "    <tr>\n",
              "      <th>4</th>\n",
              "      <td>S0262885614000511</td>\n",
              "      <td>Text based image retrieval may perform poorly due to the irrelevant and or incomplete text surrounding the images in the web pages . In such situations visual content of the images can be leverag...</td>\n",
              "      <td>A system that constructs multi instance bags from text based retrieval order. Ensemble of MI classifiers is learned using these multi instance bags. We report image re ranking performance on multi...</td>\n",
              "    </tr>\n",
              "  </tbody>\n",
              "</table>\n",
              "</div>\n",
              "      <button class=\"colab-df-convert\" onclick=\"convertToInteractive('df-9bf10e9b-55b3-4977-b33d-5af7eaebd00f')\"\n",
              "              title=\"Convert this dataframe to an interactive table.\"\n",
              "              style=\"display:none;\">\n",
              "        \n",
              "  <svg xmlns=\"http://www.w3.org/2000/svg\" height=\"24px\"viewBox=\"0 0 24 24\"\n",
              "       width=\"24px\">\n",
              "    <path d=\"M0 0h24v24H0V0z\" fill=\"none\"/>\n",
              "    <path d=\"M18.56 5.44l.94 2.06.94-2.06 2.06-.94-2.06-.94-.94-2.06-.94 2.06-2.06.94zm-11 1L8.5 8.5l.94-2.06 2.06-.94-2.06-.94L8.5 2.5l-.94 2.06-2.06.94zm10 10l.94 2.06.94-2.06 2.06-.94-2.06-.94-.94-2.06-.94 2.06-2.06.94z\"/><path d=\"M17.41 7.96l-1.37-1.37c-.4-.4-.92-.59-1.43-.59-.52 0-1.04.2-1.43.59L10.3 9.45l-7.72 7.72c-.78.78-.78 2.05 0 2.83L4 21.41c.39.39.9.59 1.41.59.51 0 1.02-.2 1.41-.59l7.78-7.78 2.81-2.81c.8-.78.8-2.07 0-2.86zM5.41 20L4 18.59l7.72-7.72 1.47 1.35L5.41 20z\"/>\n",
              "  </svg>\n",
              "      </button>\n",
              "      \n",
              "  <style>\n",
              "    .colab-df-container {\n",
              "      display:flex;\n",
              "      flex-wrap:wrap;\n",
              "      gap: 12px;\n",
              "    }\n",
              "\n",
              "    .colab-df-convert {\n",
              "      background-color: #E8F0FE;\n",
              "      border: none;\n",
              "      border-radius: 50%;\n",
              "      cursor: pointer;\n",
              "      display: none;\n",
              "      fill: #1967D2;\n",
              "      height: 32px;\n",
              "      padding: 0 0 0 0;\n",
              "      width: 32px;\n",
              "    }\n",
              "\n",
              "    .colab-df-convert:hover {\n",
              "      background-color: #E2EBFA;\n",
              "      box-shadow: 0px 1px 2px rgba(60, 64, 67, 0.3), 0px 1px 3px 1px rgba(60, 64, 67, 0.15);\n",
              "      fill: #174EA6;\n",
              "    }\n",
              "\n",
              "    [theme=dark] .colab-df-convert {\n",
              "      background-color: #3B4455;\n",
              "      fill: #D2E3FC;\n",
              "    }\n",
              "\n",
              "    [theme=dark] .colab-df-convert:hover {\n",
              "      background-color: #434B5C;\n",
              "      box-shadow: 0px 1px 3px 1px rgba(0, 0, 0, 0.15);\n",
              "      filter: drop-shadow(0px 1px 2px rgba(0, 0, 0, 0.3));\n",
              "      fill: #FFFFFF;\n",
              "    }\n",
              "  </style>\n",
              "\n",
              "      <script>\n",
              "        const buttonEl =\n",
              "          document.querySelector('#df-9bf10e9b-55b3-4977-b33d-5af7eaebd00f button.colab-df-convert');\n",
              "        buttonEl.style.display =\n",
              "          google.colab.kernel.accessAllowed ? 'block' : 'none';\n",
              "\n",
              "        async function convertToInteractive(key) {\n",
              "          const element = document.querySelector('#df-9bf10e9b-55b3-4977-b33d-5af7eaebd00f');\n",
              "          const dataTable =\n",
              "            await google.colab.kernel.invokeFunction('convertToInteractive',\n",
              "                                                     [key], {});\n",
              "          if (!dataTable) return;\n",
              "\n",
              "          const docLinkHtml = 'Like what you see? Visit the ' +\n",
              "            '<a target=\"_blank\" href=https://colab.research.google.com/notebooks/data_table.ipynb>data table notebook</a>'\n",
              "            + ' to learn more about interactive tables.';\n",
              "          element.innerHTML = '';\n",
              "          dataTable['output_type'] = 'display_data';\n",
              "          await google.colab.output.renderOutput(dataTable, element);\n",
              "          const docLink = document.createElement('div');\n",
              "          docLink.innerHTML = docLinkHtml;\n",
              "          element.appendChild(docLink);\n",
              "        }\n",
              "      </script>\n",
              "    </div>\n",
              "  </div>\n",
              "  "
            ]
          },
          "metadata": {},
          "execution_count": 4
        }
      ],
      "source": [
        "data=pd.read_csv(\"train.csv\")\n",
        "print(data.shape)\n",
        "data.head()"
      ]
    },
    {
      "cell_type": "code",
      "execution_count": 5,
      "id": "470f7636",
      "metadata": {
        "id": "470f7636",
        "colab": {
          "base_uri": "https://localhost:8080/",
          "height": 159
        },
        "outputId": "ec24dfc1-e8dc-4150-dc6b-4fa787a68451"
      },
      "outputs": [
        {
          "output_type": "execute_result",
          "data": {
            "text/plain": [
              "                                                                                                                                                                                                  Abstract  \\\n",
              "0   Human face can be seen as a soft tissue organ complex with a large investing network of musculature . Due to its complexity most existing computational models approximate these muscular structure...   \n",
              "\n",
              "                                                                                                                                                                                                       RHS  \n",
              "0  We model the deformation of the human face due to muscle contraction. 3 D muscles with anatomical geometry and fibre orientation is used. Muscle forces are represented as discrete point load at th...  "
            ],
            "text/html": [
              "\n",
              "  <div id=\"df-1334c94f-0da8-4f35-a261-64fc7b19e05d\">\n",
              "    <div class=\"colab-df-container\">\n",
              "      <div>\n",
              "<style scoped>\n",
              "    .dataframe tbody tr th:only-of-type {\n",
              "        vertical-align: middle;\n",
              "    }\n",
              "\n",
              "    .dataframe tbody tr th {\n",
              "        vertical-align: top;\n",
              "    }\n",
              "\n",
              "    .dataframe thead th {\n",
              "        text-align: right;\n",
              "    }\n",
              "</style>\n",
              "<table border=\"1\" class=\"dataframe\">\n",
              "  <thead>\n",
              "    <tr style=\"text-align: right;\">\n",
              "      <th></th>\n",
              "      <th>Abstract</th>\n",
              "      <th>RHS</th>\n",
              "    </tr>\n",
              "  </thead>\n",
              "  <tbody>\n",
              "    <tr>\n",
              "      <th>0</th>\n",
              "      <td>Human face can be seen as a soft tissue organ complex with a large investing network of musculature . Due to its complexity most existing computational models approximate these muscular structure...</td>\n",
              "      <td>We model the deformation of the human face due to muscle contraction. 3 D muscles with anatomical geometry and fibre orientation is used. Muscle forces are represented as discrete point load at th...</td>\n",
              "    </tr>\n",
              "  </tbody>\n",
              "</table>\n",
              "</div>\n",
              "      <button class=\"colab-df-convert\" onclick=\"convertToInteractive('df-1334c94f-0da8-4f35-a261-64fc7b19e05d')\"\n",
              "              title=\"Convert this dataframe to an interactive table.\"\n",
              "              style=\"display:none;\">\n",
              "        \n",
              "  <svg xmlns=\"http://www.w3.org/2000/svg\" height=\"24px\"viewBox=\"0 0 24 24\"\n",
              "       width=\"24px\">\n",
              "    <path d=\"M0 0h24v24H0V0z\" fill=\"none\"/>\n",
              "    <path d=\"M18.56 5.44l.94 2.06.94-2.06 2.06-.94-2.06-.94-.94-2.06-.94 2.06-2.06.94zm-11 1L8.5 8.5l.94-2.06 2.06-.94-2.06-.94L8.5 2.5l-.94 2.06-2.06.94zm10 10l.94 2.06.94-2.06 2.06-.94-2.06-.94-.94-2.06-.94 2.06-2.06.94z\"/><path d=\"M17.41 7.96l-1.37-1.37c-.4-.4-.92-.59-1.43-.59-.52 0-1.04.2-1.43.59L10.3 9.45l-7.72 7.72c-.78.78-.78 2.05 0 2.83L4 21.41c.39.39.9.59 1.41.59.51 0 1.02-.2 1.41-.59l7.78-7.78 2.81-2.81c.8-.78.8-2.07 0-2.86zM5.41 20L4 18.59l7.72-7.72 1.47 1.35L5.41 20z\"/>\n",
              "  </svg>\n",
              "      </button>\n",
              "      \n",
              "  <style>\n",
              "    .colab-df-container {\n",
              "      display:flex;\n",
              "      flex-wrap:wrap;\n",
              "      gap: 12px;\n",
              "    }\n",
              "\n",
              "    .colab-df-convert {\n",
              "      background-color: #E8F0FE;\n",
              "      border: none;\n",
              "      border-radius: 50%;\n",
              "      cursor: pointer;\n",
              "      display: none;\n",
              "      fill: #1967D2;\n",
              "      height: 32px;\n",
              "      padding: 0 0 0 0;\n",
              "      width: 32px;\n",
              "    }\n",
              "\n",
              "    .colab-df-convert:hover {\n",
              "      background-color: #E2EBFA;\n",
              "      box-shadow: 0px 1px 2px rgba(60, 64, 67, 0.3), 0px 1px 3px 1px rgba(60, 64, 67, 0.15);\n",
              "      fill: #174EA6;\n",
              "    }\n",
              "\n",
              "    [theme=dark] .colab-df-convert {\n",
              "      background-color: #3B4455;\n",
              "      fill: #D2E3FC;\n",
              "    }\n",
              "\n",
              "    [theme=dark] .colab-df-convert:hover {\n",
              "      background-color: #434B5C;\n",
              "      box-shadow: 0px 1px 3px 1px rgba(0, 0, 0, 0.15);\n",
              "      filter: drop-shadow(0px 1px 2px rgba(0, 0, 0, 0.3));\n",
              "      fill: #FFFFFF;\n",
              "    }\n",
              "  </style>\n",
              "\n",
              "      <script>\n",
              "        const buttonEl =\n",
              "          document.querySelector('#df-1334c94f-0da8-4f35-a261-64fc7b19e05d button.colab-df-convert');\n",
              "        buttonEl.style.display =\n",
              "          google.colab.kernel.accessAllowed ? 'block' : 'none';\n",
              "\n",
              "        async function convertToInteractive(key) {\n",
              "          const element = document.querySelector('#df-1334c94f-0da8-4f35-a261-64fc7b19e05d');\n",
              "          const dataTable =\n",
              "            await google.colab.kernel.invokeFunction('convertToInteractive',\n",
              "                                                     [key], {});\n",
              "          if (!dataTable) return;\n",
              "\n",
              "          const docLinkHtml = 'Like what you see? Visit the ' +\n",
              "            '<a target=\"_blank\" href=https://colab.research.google.com/notebooks/data_table.ipynb>data table notebook</a>'\n",
              "            + ' to learn more about interactive tables.';\n",
              "          element.innerHTML = '';\n",
              "          dataTable['output_type'] = 'display_data';\n",
              "          await google.colab.output.renderOutput(dataTable, element);\n",
              "          const docLink = document.createElement('div');\n",
              "          docLink.innerHTML = docLinkHtml;\n",
              "          element.appendChild(docLink);\n",
              "        }\n",
              "      </script>\n",
              "    </div>\n",
              "  </div>\n",
              "  "
            ]
          },
          "metadata": {},
          "execution_count": 5
        }
      ],
      "source": [
        "data1 = pd.read_csv('val.csv')\n",
        "data1.head(1)\n",
        "data1 = data1[['Abstract','RHS']]\n",
        "data1.head(1)"
      ]
    },
    {
      "cell_type": "code",
      "execution_count": 6,
      "id": "82ceb15a",
      "metadata": {
        "id": "82ceb15a",
        "colab": {
          "base_uri": "https://localhost:8080/"
        },
        "outputId": "2d0dfe9e-5bcc-4ba1-d19f-938fe72879e0"
      },
      "outputs": [
        {
          "output_type": "execute_result",
          "data": {
            "text/plain": [
              "Abstract    0\n",
              "RHS         0\n",
              "dtype: int64"
            ]
          },
          "metadata": {},
          "execution_count": 6
        }
      ],
      "source": [
        "data1.isnull().sum()"
      ]
    },
    {
      "cell_type": "code",
      "execution_count": 7,
      "id": "9388815f",
      "metadata": {
        "id": "9388815f",
        "colab": {
          "base_uri": "https://localhost:8080/"
        },
        "outputId": "30f5c8fb-044e-4246-cd0f-38c1c70fb029"
      },
      "outputs": [
        {
          "output_type": "execute_result",
          "data": {
            "text/plain": [
              "0"
            ]
          },
          "metadata": {},
          "execution_count": 7
        }
      ],
      "source": [
        "data1.duplicated().sum()"
      ]
    },
    {
      "cell_type": "code",
      "execution_count": 8,
      "id": "69686477",
      "metadata": {
        "id": "69686477",
        "colab": {
          "base_uri": "https://localhost:8080/",
          "height": 424
        },
        "outputId": "cffd8899-879e-4a19-85a7-e42834b506ee"
      },
      "outputs": [
        {
          "output_type": "execute_result",
          "data": {
            "text/plain": [
              "                                                                                                                                                                                                  Abstract  \\\n",
              "0   This paper introduces four classes of rotation invariant orthogonal moments by generalizing four existing moments that use harmonic functions in their radial kernels . Members of these classes sh...   \n",
              "1   In this paper a MATLAB based graphical user interface software tool for general biomedical signal processing and analysis of functional neuroimaging data is introduced . Specifically electroencep...   \n",
              "2   Background and objective A markerless low cost prototype has been developed for the determination of some spatio temporal parameters of human gait step length step width and cadence have been con...   \n",
              "3   This paper presents an improved multiple instance learning tracker representing target with Distribution Fields and building a weighted geometric mean MIL classifier . Firstly we adopt DF layer a...   \n",
              "4   Text based image retrieval may perform poorly due to the irrelevant and or incomplete text surrounding the images in the web pages . In such situations visual content of the images can be leverag...   \n",
              "\n",
              "                                                                                                                                                                                                       RHS  \n",
              "0  We generalize polar harmonic transforms for pattern description recognition. The generalization maintains beneficial properties of existing transforms. The completeness of the corresponding basis ...  \n",
              "1  Design of a MATLAB based GUI tool for general biomedical signal processing and analysis. EEG and ECG signals can be processed and analyzed by the designed tool. The easy to use and easy to learn i...  \n",
              "2  A markerless low cost system for the estimation of some spatial temporal parameters of human gait. A system usable on not instrumented treadmill. A system characterized by a very high level of aut...  \n",
              "3  We adopt Distribution Field DF layer as feature instead of traditional Haar like one to robustly model the target. We derive an online weighted geometric mean MIL classifier to select the most dis...  \n",
              "4  A system that constructs multi instance bags from text based retrieval order. Ensemble of MI classifiers is learned using these multi instance bags. We report image re ranking performance on multi...  "
            ],
            "text/html": [
              "\n",
              "  <div id=\"df-ff40b6ba-a26e-4b08-93fd-b37aeed32b0c\">\n",
              "    <div class=\"colab-df-container\">\n",
              "      <div>\n",
              "<style scoped>\n",
              "    .dataframe tbody tr th:only-of-type {\n",
              "        vertical-align: middle;\n",
              "    }\n",
              "\n",
              "    .dataframe tbody tr th {\n",
              "        vertical-align: top;\n",
              "    }\n",
              "\n",
              "    .dataframe thead th {\n",
              "        text-align: right;\n",
              "    }\n",
              "</style>\n",
              "<table border=\"1\" class=\"dataframe\">\n",
              "  <thead>\n",
              "    <tr style=\"text-align: right;\">\n",
              "      <th></th>\n",
              "      <th>Abstract</th>\n",
              "      <th>RHS</th>\n",
              "    </tr>\n",
              "  </thead>\n",
              "  <tbody>\n",
              "    <tr>\n",
              "      <th>0</th>\n",
              "      <td>This paper introduces four classes of rotation invariant orthogonal moments by generalizing four existing moments that use harmonic functions in their radial kernels . Members of these classes sh...</td>\n",
              "      <td>We generalize polar harmonic transforms for pattern description recognition. The generalization maintains beneficial properties of existing transforms. The completeness of the corresponding basis ...</td>\n",
              "    </tr>\n",
              "    <tr>\n",
              "      <th>1</th>\n",
              "      <td>In this paper a MATLAB based graphical user interface software tool for general biomedical signal processing and analysis of functional neuroimaging data is introduced . Specifically electroencep...</td>\n",
              "      <td>Design of a MATLAB based GUI tool for general biomedical signal processing and analysis. EEG and ECG signals can be processed and analyzed by the designed tool. The easy to use and easy to learn i...</td>\n",
              "    </tr>\n",
              "    <tr>\n",
              "      <th>2</th>\n",
              "      <td>Background and objective A markerless low cost prototype has been developed for the determination of some spatio temporal parameters of human gait step length step width and cadence have been con...</td>\n",
              "      <td>A markerless low cost system for the estimation of some spatial temporal parameters of human gait. A system usable on not instrumented treadmill. A system characterized by a very high level of aut...</td>\n",
              "    </tr>\n",
              "    <tr>\n",
              "      <th>3</th>\n",
              "      <td>This paper presents an improved multiple instance learning tracker representing target with Distribution Fields and building a weighted geometric mean MIL classifier . Firstly we adopt DF layer a...</td>\n",
              "      <td>We adopt Distribution Field DF layer as feature instead of traditional Haar like one to robustly model the target. We derive an online weighted geometric mean MIL classifier to select the most dis...</td>\n",
              "    </tr>\n",
              "    <tr>\n",
              "      <th>4</th>\n",
              "      <td>Text based image retrieval may perform poorly due to the irrelevant and or incomplete text surrounding the images in the web pages . In such situations visual content of the images can be leverag...</td>\n",
              "      <td>A system that constructs multi instance bags from text based retrieval order. Ensemble of MI classifiers is learned using these multi instance bags. We report image re ranking performance on multi...</td>\n",
              "    </tr>\n",
              "  </tbody>\n",
              "</table>\n",
              "</div>\n",
              "      <button class=\"colab-df-convert\" onclick=\"convertToInteractive('df-ff40b6ba-a26e-4b08-93fd-b37aeed32b0c')\"\n",
              "              title=\"Convert this dataframe to an interactive table.\"\n",
              "              style=\"display:none;\">\n",
              "        \n",
              "  <svg xmlns=\"http://www.w3.org/2000/svg\" height=\"24px\"viewBox=\"0 0 24 24\"\n",
              "       width=\"24px\">\n",
              "    <path d=\"M0 0h24v24H0V0z\" fill=\"none\"/>\n",
              "    <path d=\"M18.56 5.44l.94 2.06.94-2.06 2.06-.94-2.06-.94-.94-2.06-.94 2.06-2.06.94zm-11 1L8.5 8.5l.94-2.06 2.06-.94-2.06-.94L8.5 2.5l-.94 2.06-2.06.94zm10 10l.94 2.06.94-2.06 2.06-.94-2.06-.94-.94-2.06-.94 2.06-2.06.94z\"/><path d=\"M17.41 7.96l-1.37-1.37c-.4-.4-.92-.59-1.43-.59-.52 0-1.04.2-1.43.59L10.3 9.45l-7.72 7.72c-.78.78-.78 2.05 0 2.83L4 21.41c.39.39.9.59 1.41.59.51 0 1.02-.2 1.41-.59l7.78-7.78 2.81-2.81c.8-.78.8-2.07 0-2.86zM5.41 20L4 18.59l7.72-7.72 1.47 1.35L5.41 20z\"/>\n",
              "  </svg>\n",
              "      </button>\n",
              "      \n",
              "  <style>\n",
              "    .colab-df-container {\n",
              "      display:flex;\n",
              "      flex-wrap:wrap;\n",
              "      gap: 12px;\n",
              "    }\n",
              "\n",
              "    .colab-df-convert {\n",
              "      background-color: #E8F0FE;\n",
              "      border: none;\n",
              "      border-radius: 50%;\n",
              "      cursor: pointer;\n",
              "      display: none;\n",
              "      fill: #1967D2;\n",
              "      height: 32px;\n",
              "      padding: 0 0 0 0;\n",
              "      width: 32px;\n",
              "    }\n",
              "\n",
              "    .colab-df-convert:hover {\n",
              "      background-color: #E2EBFA;\n",
              "      box-shadow: 0px 1px 2px rgba(60, 64, 67, 0.3), 0px 1px 3px 1px rgba(60, 64, 67, 0.15);\n",
              "      fill: #174EA6;\n",
              "    }\n",
              "\n",
              "    [theme=dark] .colab-df-convert {\n",
              "      background-color: #3B4455;\n",
              "      fill: #D2E3FC;\n",
              "    }\n",
              "\n",
              "    [theme=dark] .colab-df-convert:hover {\n",
              "      background-color: #434B5C;\n",
              "      box-shadow: 0px 1px 3px 1px rgba(0, 0, 0, 0.15);\n",
              "      filter: drop-shadow(0px 1px 2px rgba(0, 0, 0, 0.3));\n",
              "      fill: #FFFFFF;\n",
              "    }\n",
              "  </style>\n",
              "\n",
              "      <script>\n",
              "        const buttonEl =\n",
              "          document.querySelector('#df-ff40b6ba-a26e-4b08-93fd-b37aeed32b0c button.colab-df-convert');\n",
              "        buttonEl.style.display =\n",
              "          google.colab.kernel.accessAllowed ? 'block' : 'none';\n",
              "\n",
              "        async function convertToInteractive(key) {\n",
              "          const element = document.querySelector('#df-ff40b6ba-a26e-4b08-93fd-b37aeed32b0c');\n",
              "          const dataTable =\n",
              "            await google.colab.kernel.invokeFunction('convertToInteractive',\n",
              "                                                     [key], {});\n",
              "          if (!dataTable) return;\n",
              "\n",
              "          const docLinkHtml = 'Like what you see? Visit the ' +\n",
              "            '<a target=\"_blank\" href=https://colab.research.google.com/notebooks/data_table.ipynb>data table notebook</a>'\n",
              "            + ' to learn more about interactive tables.';\n",
              "          element.innerHTML = '';\n",
              "          dataTable['output_type'] = 'display_data';\n",
              "          await google.colab.output.renderOutput(dataTable, element);\n",
              "          const docLink = document.createElement('div');\n",
              "          docLink.innerHTML = docLinkHtml;\n",
              "          element.appendChild(docLink);\n",
              "        }\n",
              "      </script>\n",
              "    </div>\n",
              "  </div>\n",
              "  "
            ]
          },
          "metadata": {},
          "execution_count": 8
        }
      ],
      "source": [
        "data = data[['Abstract','RHS']]\n",
        "\n",
        "data.head()"
      ]
    },
    {
      "cell_type": "code",
      "execution_count": 9,
      "id": "0b9fc4fc",
      "metadata": {
        "id": "0b9fc4fc",
        "colab": {
          "base_uri": "https://localhost:8080/"
        },
        "outputId": "a8529430-6cc9-4ae7-aa37-d6b7eea99bc6"
      },
      "outputs": [
        {
          "output_type": "execute_result",
          "data": {
            "text/plain": [
              "Abstract    0\n",
              "dtype: int64"
            ]
          },
          "metadata": {},
          "execution_count": 9
        }
      ],
      "source": [
        "data[['Abstract']].isnull().sum()"
      ]
    },
    {
      "cell_type": "code",
      "execution_count": 10,
      "id": "fa8c573c",
      "metadata": {
        "id": "fa8c573c",
        "colab": {
          "base_uri": "https://localhost:8080/"
        },
        "outputId": "021ceda0-c529-432a-8ba8-5506fab9eeb2"
      },
      "outputs": [
        {
          "output_type": "execute_result",
          "data": {
            "text/plain": [
              "RHS    0\n",
              "dtype: int64"
            ]
          },
          "metadata": {},
          "execution_count": 10
        }
      ],
      "source": [
        "data[['RHS']].isnull().sum()"
      ]
    },
    {
      "cell_type": "code",
      "execution_count": 11,
      "id": "891eb2a1",
      "metadata": {
        "id": "891eb2a1",
        "colab": {
          "base_uri": "https://localhost:8080/"
        },
        "outputId": "8bab4c6e-62af-46d1-b57a-2f44501316c6"
      },
      "outputs": [
        {
          "output_type": "execute_result",
          "data": {
            "text/plain": [
              "Abstract    0\n",
              "dtype: int64"
            ]
          },
          "metadata": {},
          "execution_count": 11
        }
      ],
      "source": [
        "data[['Abstract']].isna().sum()"
      ]
    },
    {
      "cell_type": "code",
      "execution_count": 12,
      "id": "0a519197",
      "metadata": {
        "id": "0a519197",
        "colab": {
          "base_uri": "https://localhost:8080/"
        },
        "outputId": "9a51763b-dee0-4075-f853-5228d5c5b190"
      },
      "outputs": [
        {
          "output_type": "execute_result",
          "data": {
            "text/plain": [
              "RHS    0\n",
              "dtype: int64"
            ]
          },
          "metadata": {},
          "execution_count": 12
        }
      ],
      "source": [
        "data[['RHS']].isna().sum()"
      ]
    },
    {
      "cell_type": "code",
      "execution_count": 13,
      "id": "50528d7b",
      "metadata": {
        "id": "50528d7b",
        "colab": {
          "base_uri": "https://localhost:8080/"
        },
        "outputId": "b40606e6-6baf-4359-b569-dafd2ad3f90b"
      },
      "outputs": [
        {
          "output_type": "execute_result",
          "data": {
            "text/plain": [
              "2"
            ]
          },
          "metadata": {},
          "execution_count": 13
        }
      ],
      "source": [
        "data[['Abstract']].duplicated().sum()"
      ]
    },
    {
      "cell_type": "code",
      "execution_count": 14,
      "id": "c32c2058",
      "metadata": {
        "id": "c32c2058",
        "colab": {
          "base_uri": "https://localhost:8080/"
        },
        "outputId": "d497b7c1-88cd-459b-8aaa-01643c6a911e"
      },
      "outputs": [
        {
          "output_type": "execute_result",
          "data": {
            "text/plain": [
              "1"
            ]
          },
          "metadata": {},
          "execution_count": 14
        }
      ],
      "source": [
        "data[['RHS']].duplicated().sum()"
      ]
    },
    {
      "cell_type": "code",
      "execution_count": 15,
      "id": "5f446fba",
      "metadata": {
        "id": "5f446fba"
      },
      "outputs": [],
      "source": [
        "# data[['Abstract']].drop_duplicates(inplace = True)"
      ]
    },
    {
      "cell_type": "code",
      "execution_count": 16,
      "id": "f1bcec71",
      "metadata": {
        "id": "f1bcec71"
      },
      "outputs": [],
      "source": [
        "data.drop_duplicates(inplace = True)"
      ]
    },
    {
      "cell_type": "code",
      "execution_count": 17,
      "id": "f9962df7",
      "metadata": {
        "id": "f9962df7",
        "colab": {
          "base_uri": "https://localhost:8080/"
        },
        "outputId": "6f19c7a5-819a-4dcd-a3cf-afdcc2a5e0f5"
      },
      "outputs": [
        {
          "output_type": "execute_result",
          "data": {
            "text/plain": [
              "0"
            ]
          },
          "metadata": {},
          "execution_count": 17
        }
      ],
      "source": [
        "data[['RHS']].duplicated().sum()"
      ]
    },
    {
      "cell_type": "code",
      "execution_count": 18,
      "id": "4bb05f44",
      "metadata": {
        "id": "4bb05f44",
        "colab": {
          "base_uri": "https://localhost:8080/"
        },
        "outputId": "15c535a9-2c8b-4485-803d-3da7bc26b971"
      },
      "outputs": [
        {
          "output_type": "execute_result",
          "data": {
            "text/plain": [
              "1"
            ]
          },
          "metadata": {},
          "execution_count": 18
        }
      ],
      "source": [
        "data[['Abstract']].duplicated().sum()"
      ]
    },
    {
      "cell_type": "code",
      "execution_count": 19,
      "id": "f2f807f9",
      "metadata": {
        "id": "f2f807f9"
      },
      "outputs": [],
      "source": [
        "contraction_mapping = {\"ain't\": \"is not\", \"aren't\": \"are not\",\"can't\": \"cannot\", \"'cause\": \"because\", \"could've\": \"could have\", \"couldn't\": \"could not\",\n",
        "\n",
        "                           \"didn't\": \"did not\", \"doesn't\": \"does not\", \"don't\": \"do not\", \"hadn't\": \"had not\", \"hasn't\": \"has not\", \"haven't\": \"have not\",\n",
        "\n",
        "                           \"he'd\": \"he would\",\"he'll\": \"he will\", \"he's\": \"he is\", \"how'd\": \"how did\", \"how'd'y\": \"how do you\", \"how'll\": \"how will\", \"how's\": \"how is\",\n",
        "\n",
        "                           \"I'd\": \"I would\", \"I'd've\": \"I would have\", \"I'll\": \"I will\", \"I'll've\": \"I will have\",\"I'm\": \"I am\", \"I've\": \"I have\", \"i'd\": \"i would\",\n",
        "\n",
        "                           \"i'd've\": \"i would have\", \"i'll\": \"i will\",  \"i'll've\": \"i will have\",\"i'm\": \"i am\", \"i've\": \"i have\", \"isn't\": \"is not\", \"it'd\": \"it would\",\n",
        "\n",
        "                           \"it'd've\": \"it would have\", \"it'll\": \"it will\", \"it'll've\": \"it will have\",\"it's\": \"it is\", \"let's\": \"let us\", \"ma'am\": \"madam\",\n",
        "\n",
        "                           \"mayn't\": \"may not\", \"might've\": \"might have\",\"mightn't\": \"might not\",\"mightn't've\": \"might not have\", \"must've\": \"must have\",\n",
        "\n",
        "                           \"mustn't\": \"must not\", \"mustn't've\": \"must not have\", \"needn't\": \"need not\", \"needn't've\": \"need not have\",\"o'clock\": \"of the clock\",\n",
        "\n",
        "                           \"oughtn't\": \"ought not\", \"oughtn't've\": \"ought not have\", \"shan't\": \"shall not\", \"sha'n't\": \"shall not\", \"shan't've\": \"shall not have\",\n",
        "\n",
        "                           \"she'd\": \"she would\", \"she'd've\": \"she would have\", \"she'll\": \"she will\", \"she'll've\": \"she will have\", \"she's\": \"she is\",\n",
        "\n",
        "                           \"should've\": \"should have\", \"shouldn't\": \"should not\", \"shouldn't've\": \"should not have\", \"so've\": \"so have\",\"so's\": \"so as\",\n",
        "\n",
        "                           \"this's\": \"this is\",\"that'd\": \"that would\", \"that'd've\": \"that would have\", \"that's\": \"that is\", \"there'd\": \"there would\",\n",
        "\n",
        "                           \"there'd've\": \"there would have\", \"there's\": \"there is\", \"here's\": \"here is\",\"they'd\": \"they would\", \"they'd've\": \"they would have\",\n",
        "\n",
        "                           \"they'll\": \"they will\", \"they'll've\": \"they will have\", \"they're\": \"they are\", \"they've\": \"they have\", \"to've\": \"to have\",\n",
        "\n",
        "                           \"wasn't\": \"was not\", \"we'd\": \"we would\", \"we'd've\": \"we would have\", \"we'll\": \"we will\", \"we'll've\": \"we will have\", \"we're\": \"we are\",\n",
        "\n",
        "                           \"we've\": \"we have\", \"weren't\": \"were not\", \"what'll\": \"what will\", \"what'll've\": \"what will have\", \"what're\": \"what are\",\n",
        "\n",
        "                           \"what's\": \"what is\", \"what've\": \"what have\", \"when's\": \"when is\", \"when've\": \"when have\", \"where'd\": \"where did\", \"where's\": \"where is\",\n",
        "\n",
        "                           \"where've\": \"where have\", \"who'll\": \"who will\", \"who'll've\": \"who will have\", \"who's\": \"who is\", \"who've\": \"who have\",\n",
        "\n",
        "                           \"why's\": \"why is\", \"why've\": \"why have\", \"will've\": \"will have\", \"won't\": \"will not\", \"won't've\": \"will not have\",\n",
        "\n",
        "                           \"would've\": \"would have\", \"wouldn't\": \"would not\", \"wouldn't've\": \"would not have\", \"y'all\": \"you all\",\n",
        "\n",
        "                           \"y'all'd\": \"you all would\",\"y'all'd've\": \"you all would have\",\"y'all're\": \"you all are\",\"y'all've\": \"you all have\",\n",
        "\n",
        "                           \"you'd\": \"you would\", \"you'd've\": \"you would have\", \"you'll\": \"you will\", \"you'll've\": \"you will have\",\n",
        "\n",
        "                           \"you're\": \"you are\", \"you've\": \"you have\"}"
      ]
    },
    {
      "cell_type": "code",
      "execution_count": 20,
      "id": "3ac4276e",
      "metadata": {
        "id": "3ac4276e"
      },
      "outputs": [],
      "source": [
        "stop_words = set(stopwords.words('english')) \n",
        "def text_cleaner(text):\n",
        "    newString = text.lower()\n",
        "    newString = BeautifulSoup(newString, \"lxml\").text\n",
        "    newString = re.sub(r'\\([^)]*\\)', '', newString)\n",
        "    newString = re.sub('\"','', newString)\n",
        "    newString = ' '.join([contraction_mapping[t] if t in contraction_mapping else t for t in newString.split(\" \")])    \n",
        "    newString = re.sub(r\"'s\\b\",\"\",newString)\n",
        "    newString = re.sub(\"[^a-zA-Z]\", \" \", newString)\n",
        "    tokens = [w for w in newString.split() if not w in stop_words]\n",
        "    long_words=[]\n",
        "    for i in tokens:\n",
        "        if len(i)>=3:                  #removing short word\n",
        "            long_words.append(i)   \n",
        "    return (\" \".join(long_words)).strip()\n",
        "\n",
        "# cleaned_text = []\n",
        "# for t in data['Abstract']:\n",
        "#     cleaned_text.append(text_cleaner(t))"
      ]
    },
    {
      "cell_type": "code",
      "execution_count": 21,
      "id": "39bea7cf",
      "metadata": {
        "id": "39bea7cf"
      },
      "outputs": [],
      "source": [
        "data['Abstract_cleaned'] = data['Abstract'].apply(text_cleaner)"
      ]
    },
    {
      "cell_type": "code",
      "execution_count": 22,
      "id": "8115597c",
      "metadata": {
        "id": "8115597c"
      },
      "outputs": [],
      "source": [
        "data1['Abstract_cleaned'] = data1['Abstract'].apply(text_cleaner)\n"
      ]
    },
    {
      "cell_type": "code",
      "execution_count": 23,
      "id": "9e0eb6e4",
      "metadata": {
        "id": "9e0eb6e4",
        "colab": {
          "base_uri": "https://localhost:8080/",
          "height": 510
        },
        "outputId": "8b4cd1ab-d0cd-4246-91c4-eb1ed109ae68"
      },
      "outputs": [
        {
          "output_type": "execute_result",
          "data": {
            "text/plain": [
              "                                                                                                                                                                                                  Abstract  \\\n",
              "0   This paper introduces four classes of rotation invariant orthogonal moments by generalizing four existing moments that use harmonic functions in their radial kernels . Members of these classes sh...   \n",
              "1   In this paper a MATLAB based graphical user interface software tool for general biomedical signal processing and analysis of functional neuroimaging data is introduced . Specifically electroencep...   \n",
              "2   Background and objective A markerless low cost prototype has been developed for the determination of some spatio temporal parameters of human gait step length step width and cadence have been con...   \n",
              "3   This paper presents an improved multiple instance learning tracker representing target with Distribution Fields and building a weighted geometric mean MIL classifier . Firstly we adopt DF layer a...   \n",
              "4   Text based image retrieval may perform poorly due to the irrelevant and or incomplete text surrounding the images in the web pages . In such situations visual content of the images can be leverag...   \n",
              "\n",
              "                                                                                                                                                                                                       RHS  \\\n",
              "0  We generalize polar harmonic transforms for pattern description recognition. The generalization maintains beneficial properties of existing transforms. The completeness of the corresponding basis ...   \n",
              "1  Design of a MATLAB based GUI tool for general biomedical signal processing and analysis. EEG and ECG signals can be processed and analyzed by the designed tool. The easy to use and easy to learn i...   \n",
              "2  A markerless low cost system for the estimation of some spatial temporal parameters of human gait. A system usable on not instrumented treadmill. A system characterized by a very high level of aut...   \n",
              "3  We adopt Distribution Field DF layer as feature instead of traditional Haar like one to robustly model the target. We derive an online weighted geometric mean MIL classifier to select the most dis...   \n",
              "4  A system that constructs multi instance bags from text based retrieval order. Ensemble of MI classifiers is learned using these multi instance bags. We report image re ranking performance on multi...   \n",
              "\n",
              "                                                                                                                                                                                          Abstract_cleaned  \n",
              "0  paper introduces four classes rotation invariant orthogonal moments generalizing four existing moments use harmonic functions radial kernels members classes share beneficial properties image repre...  \n",
              "1  paper matlab based graphical user interface software tool general biomedical signal processing analysis functional neuroimaging data introduced specifically electroencephalography electrocardiogra...  \n",
              "2  background objective markerless low cost prototype developed determination spatio temporal parameters human gait step length step width cadence considered smartphone high definition webcam used me...  \n",
              "3  paper presents improved multiple instance learning tracker representing target distribution fields building weighted geometric mean mil classifier firstly adopt layer feature instead traditional h...  \n",
              "4  text based image retrieval may perform poorly due irrelevant incomplete text surrounding images web pages situations visual content images leveraged improve image ranking performance paper look pr...  "
            ],
            "text/html": [
              "\n",
              "  <div id=\"df-f965d3e4-5b43-4102-8acb-254f229097e3\">\n",
              "    <div class=\"colab-df-container\">\n",
              "      <div>\n",
              "<style scoped>\n",
              "    .dataframe tbody tr th:only-of-type {\n",
              "        vertical-align: middle;\n",
              "    }\n",
              "\n",
              "    .dataframe tbody tr th {\n",
              "        vertical-align: top;\n",
              "    }\n",
              "\n",
              "    .dataframe thead th {\n",
              "        text-align: right;\n",
              "    }\n",
              "</style>\n",
              "<table border=\"1\" class=\"dataframe\">\n",
              "  <thead>\n",
              "    <tr style=\"text-align: right;\">\n",
              "      <th></th>\n",
              "      <th>Abstract</th>\n",
              "      <th>RHS</th>\n",
              "      <th>Abstract_cleaned</th>\n",
              "    </tr>\n",
              "  </thead>\n",
              "  <tbody>\n",
              "    <tr>\n",
              "      <th>0</th>\n",
              "      <td>This paper introduces four classes of rotation invariant orthogonal moments by generalizing four existing moments that use harmonic functions in their radial kernels . Members of these classes sh...</td>\n",
              "      <td>We generalize polar harmonic transforms for pattern description recognition. The generalization maintains beneficial properties of existing transforms. The completeness of the corresponding basis ...</td>\n",
              "      <td>paper introduces four classes rotation invariant orthogonal moments generalizing four existing moments use harmonic functions radial kernels members classes share beneficial properties image repre...</td>\n",
              "    </tr>\n",
              "    <tr>\n",
              "      <th>1</th>\n",
              "      <td>In this paper a MATLAB based graphical user interface software tool for general biomedical signal processing and analysis of functional neuroimaging data is introduced . Specifically electroencep...</td>\n",
              "      <td>Design of a MATLAB based GUI tool for general biomedical signal processing and analysis. EEG and ECG signals can be processed and analyzed by the designed tool. The easy to use and easy to learn i...</td>\n",
              "      <td>paper matlab based graphical user interface software tool general biomedical signal processing analysis functional neuroimaging data introduced specifically electroencephalography electrocardiogra...</td>\n",
              "    </tr>\n",
              "    <tr>\n",
              "      <th>2</th>\n",
              "      <td>Background and objective A markerless low cost prototype has been developed for the determination of some spatio temporal parameters of human gait step length step width and cadence have been con...</td>\n",
              "      <td>A markerless low cost system for the estimation of some spatial temporal parameters of human gait. A system usable on not instrumented treadmill. A system characterized by a very high level of aut...</td>\n",
              "      <td>background objective markerless low cost prototype developed determination spatio temporal parameters human gait step length step width cadence considered smartphone high definition webcam used me...</td>\n",
              "    </tr>\n",
              "    <tr>\n",
              "      <th>3</th>\n",
              "      <td>This paper presents an improved multiple instance learning tracker representing target with Distribution Fields and building a weighted geometric mean MIL classifier . Firstly we adopt DF layer a...</td>\n",
              "      <td>We adopt Distribution Field DF layer as feature instead of traditional Haar like one to robustly model the target. We derive an online weighted geometric mean MIL classifier to select the most dis...</td>\n",
              "      <td>paper presents improved multiple instance learning tracker representing target distribution fields building weighted geometric mean mil classifier firstly adopt layer feature instead traditional h...</td>\n",
              "    </tr>\n",
              "    <tr>\n",
              "      <th>4</th>\n",
              "      <td>Text based image retrieval may perform poorly due to the irrelevant and or incomplete text surrounding the images in the web pages . In such situations visual content of the images can be leverag...</td>\n",
              "      <td>A system that constructs multi instance bags from text based retrieval order. Ensemble of MI classifiers is learned using these multi instance bags. We report image re ranking performance on multi...</td>\n",
              "      <td>text based image retrieval may perform poorly due irrelevant incomplete text surrounding images web pages situations visual content images leveraged improve image ranking performance paper look pr...</td>\n",
              "    </tr>\n",
              "  </tbody>\n",
              "</table>\n",
              "</div>\n",
              "      <button class=\"colab-df-convert\" onclick=\"convertToInteractive('df-f965d3e4-5b43-4102-8acb-254f229097e3')\"\n",
              "              title=\"Convert this dataframe to an interactive table.\"\n",
              "              style=\"display:none;\">\n",
              "        \n",
              "  <svg xmlns=\"http://www.w3.org/2000/svg\" height=\"24px\"viewBox=\"0 0 24 24\"\n",
              "       width=\"24px\">\n",
              "    <path d=\"M0 0h24v24H0V0z\" fill=\"none\"/>\n",
              "    <path d=\"M18.56 5.44l.94 2.06.94-2.06 2.06-.94-2.06-.94-.94-2.06-.94 2.06-2.06.94zm-11 1L8.5 8.5l.94-2.06 2.06-.94-2.06-.94L8.5 2.5l-.94 2.06-2.06.94zm10 10l.94 2.06.94-2.06 2.06-.94-2.06-.94-.94-2.06-.94 2.06-2.06.94z\"/><path d=\"M17.41 7.96l-1.37-1.37c-.4-.4-.92-.59-1.43-.59-.52 0-1.04.2-1.43.59L10.3 9.45l-7.72 7.72c-.78.78-.78 2.05 0 2.83L4 21.41c.39.39.9.59 1.41.59.51 0 1.02-.2 1.41-.59l7.78-7.78 2.81-2.81c.8-.78.8-2.07 0-2.86zM5.41 20L4 18.59l7.72-7.72 1.47 1.35L5.41 20z\"/>\n",
              "  </svg>\n",
              "      </button>\n",
              "      \n",
              "  <style>\n",
              "    .colab-df-container {\n",
              "      display:flex;\n",
              "      flex-wrap:wrap;\n",
              "      gap: 12px;\n",
              "    }\n",
              "\n",
              "    .colab-df-convert {\n",
              "      background-color: #E8F0FE;\n",
              "      border: none;\n",
              "      border-radius: 50%;\n",
              "      cursor: pointer;\n",
              "      display: none;\n",
              "      fill: #1967D2;\n",
              "      height: 32px;\n",
              "      padding: 0 0 0 0;\n",
              "      width: 32px;\n",
              "    }\n",
              "\n",
              "    .colab-df-convert:hover {\n",
              "      background-color: #E2EBFA;\n",
              "      box-shadow: 0px 1px 2px rgba(60, 64, 67, 0.3), 0px 1px 3px 1px rgba(60, 64, 67, 0.15);\n",
              "      fill: #174EA6;\n",
              "    }\n",
              "\n",
              "    [theme=dark] .colab-df-convert {\n",
              "      background-color: #3B4455;\n",
              "      fill: #D2E3FC;\n",
              "    }\n",
              "\n",
              "    [theme=dark] .colab-df-convert:hover {\n",
              "      background-color: #434B5C;\n",
              "      box-shadow: 0px 1px 3px 1px rgba(0, 0, 0, 0.15);\n",
              "      filter: drop-shadow(0px 1px 2px rgba(0, 0, 0, 0.3));\n",
              "      fill: #FFFFFF;\n",
              "    }\n",
              "  </style>\n",
              "\n",
              "      <script>\n",
              "        const buttonEl =\n",
              "          document.querySelector('#df-f965d3e4-5b43-4102-8acb-254f229097e3 button.colab-df-convert');\n",
              "        buttonEl.style.display =\n",
              "          google.colab.kernel.accessAllowed ? 'block' : 'none';\n",
              "\n",
              "        async function convertToInteractive(key) {\n",
              "          const element = document.querySelector('#df-f965d3e4-5b43-4102-8acb-254f229097e3');\n",
              "          const dataTable =\n",
              "            await google.colab.kernel.invokeFunction('convertToInteractive',\n",
              "                                                     [key], {});\n",
              "          if (!dataTable) return;\n",
              "\n",
              "          const docLinkHtml = 'Like what you see? Visit the ' +\n",
              "            '<a target=\"_blank\" href=https://colab.research.google.com/notebooks/data_table.ipynb>data table notebook</a>'\n",
              "            + ' to learn more about interactive tables.';\n",
              "          element.innerHTML = '';\n",
              "          dataTable['output_type'] = 'display_data';\n",
              "          await google.colab.output.renderOutput(dataTable, element);\n",
              "          const docLink = document.createElement('div');\n",
              "          docLink.innerHTML = docLinkHtml;\n",
              "          element.appendChild(docLink);\n",
              "        }\n",
              "      </script>\n",
              "    </div>\n",
              "  </div>\n",
              "  "
            ]
          },
          "metadata": {},
          "execution_count": 23
        }
      ],
      "source": [
        "# data.drop([['cleantext']],inplace = True)\n",
        "# data.head()\n",
        "data = data[['Abstract','RHS','Abstract_cleaned']]\n",
        "data.head()"
      ]
    },
    {
      "cell_type": "code",
      "execution_count": 24,
      "id": "0cd498c6",
      "metadata": {
        "id": "0cd498c6"
      },
      "outputs": [],
      "source": [
        "def summary_cleaner(text):\n",
        "    newString = re.sub('\"','', text)\n",
        "    newString = ' '.join([contraction_mapping[t] if t in contraction_mapping else t for t in newString.split(\" \")])    \n",
        "    newString = re.sub(r\"'s\\b\",\"\",newString)\n",
        "    newString = re.sub(\"[^a-zA-Z]\", \" \", newString)\n",
        "    newString = newString.lower()\n",
        "    tokens=newString.split()\n",
        "    newString=''\n",
        "    for i in tokens:\n",
        "        if len(i)>1:                                 \n",
        "            newString=newString+i+' '  \n",
        "    return newString\n"
      ]
    },
    {
      "cell_type": "code",
      "execution_count": 25,
      "id": "2946bd4a",
      "metadata": {
        "id": "2946bd4a"
      },
      "outputs": [],
      "source": [
        "data['RHS_cleaned'] = data['RHS'].apply(summary_cleaner)\n",
        "data.shape\n",
        "data1['RHS_cleaned'] = data1['RHS'].apply(text_cleaner)\n",
        "data['RHS_cleaned'] = data['RHS_cleaned'].apply(lambda x : '_START_ '+ x + ' _END_')\n",
        "data1['RHS_cleaned'] = data1['RHS_cleaned'].apply(lambda x : '_START_ '+ x + ' _END_')\n",
        "\n"
      ]
    },
    {
      "cell_type": "code",
      "execution_count": 26,
      "id": "c7d95792",
      "metadata": {
        "id": "c7d95792",
        "colab": {
          "base_uri": "https://localhost:8080/",
          "height": 211
        },
        "outputId": "fa90275d-c84b-489e-a56c-d6d0988acb74"
      },
      "outputs": [
        {
          "output_type": "execute_result",
          "data": {
            "text/plain": [
              "                                                                                                                                                                                                  Abstract  \\\n",
              "0   This paper introduces four classes of rotation invariant orthogonal moments by generalizing four existing moments that use harmonic functions in their radial kernels . Members of these classes sh...   \n",
              "\n",
              "                                                                                                                                                                                                       RHS  \\\n",
              "0  We generalize polar harmonic transforms for pattern description recognition. The generalization maintains beneficial properties of existing transforms. The completeness of the corresponding basis ...   \n",
              "\n",
              "                                                                                                                                                                                          Abstract_cleaned  \\\n",
              "0  paper introduces four classes rotation invariant orthogonal moments generalizing four existing moments use harmonic functions radial kernels members classes share beneficial properties image repre...   \n",
              "\n",
              "                                                                                                                                                                                               RHS_cleaned  \n",
              "0  _START_ we generalize polar harmonic transforms for pattern description recognition the generalization maintains beneficial properties of existing transforms the completeness of the corresponding ...  "
            ],
            "text/html": [
              "\n",
              "  <div id=\"df-351165eb-076a-4f47-af68-1ab1359840db\">\n",
              "    <div class=\"colab-df-container\">\n",
              "      <div>\n",
              "<style scoped>\n",
              "    .dataframe tbody tr th:only-of-type {\n",
              "        vertical-align: middle;\n",
              "    }\n",
              "\n",
              "    .dataframe tbody tr th {\n",
              "        vertical-align: top;\n",
              "    }\n",
              "\n",
              "    .dataframe thead th {\n",
              "        text-align: right;\n",
              "    }\n",
              "</style>\n",
              "<table border=\"1\" class=\"dataframe\">\n",
              "  <thead>\n",
              "    <tr style=\"text-align: right;\">\n",
              "      <th></th>\n",
              "      <th>Abstract</th>\n",
              "      <th>RHS</th>\n",
              "      <th>Abstract_cleaned</th>\n",
              "      <th>RHS_cleaned</th>\n",
              "    </tr>\n",
              "  </thead>\n",
              "  <tbody>\n",
              "    <tr>\n",
              "      <th>0</th>\n",
              "      <td>This paper introduces four classes of rotation invariant orthogonal moments by generalizing four existing moments that use harmonic functions in their radial kernels . Members of these classes sh...</td>\n",
              "      <td>We generalize polar harmonic transforms for pattern description recognition. The generalization maintains beneficial properties of existing transforms. The completeness of the corresponding basis ...</td>\n",
              "      <td>paper introduces four classes rotation invariant orthogonal moments generalizing four existing moments use harmonic functions radial kernels members classes share beneficial properties image repre...</td>\n",
              "      <td>_START_ we generalize polar harmonic transforms for pattern description recognition the generalization maintains beneficial properties of existing transforms the completeness of the corresponding ...</td>\n",
              "    </tr>\n",
              "  </tbody>\n",
              "</table>\n",
              "</div>\n",
              "      <button class=\"colab-df-convert\" onclick=\"convertToInteractive('df-351165eb-076a-4f47-af68-1ab1359840db')\"\n",
              "              title=\"Convert this dataframe to an interactive table.\"\n",
              "              style=\"display:none;\">\n",
              "        \n",
              "  <svg xmlns=\"http://www.w3.org/2000/svg\" height=\"24px\"viewBox=\"0 0 24 24\"\n",
              "       width=\"24px\">\n",
              "    <path d=\"M0 0h24v24H0V0z\" fill=\"none\"/>\n",
              "    <path d=\"M18.56 5.44l.94 2.06.94-2.06 2.06-.94-2.06-.94-.94-2.06-.94 2.06-2.06.94zm-11 1L8.5 8.5l.94-2.06 2.06-.94-2.06-.94L8.5 2.5l-.94 2.06-2.06.94zm10 10l.94 2.06.94-2.06 2.06-.94-2.06-.94-.94-2.06-.94 2.06-2.06.94z\"/><path d=\"M17.41 7.96l-1.37-1.37c-.4-.4-.92-.59-1.43-.59-.52 0-1.04.2-1.43.59L10.3 9.45l-7.72 7.72c-.78.78-.78 2.05 0 2.83L4 21.41c.39.39.9.59 1.41.59.51 0 1.02-.2 1.41-.59l7.78-7.78 2.81-2.81c.8-.78.8-2.07 0-2.86zM5.41 20L4 18.59l7.72-7.72 1.47 1.35L5.41 20z\"/>\n",
              "  </svg>\n",
              "      </button>\n",
              "      \n",
              "  <style>\n",
              "    .colab-df-container {\n",
              "      display:flex;\n",
              "      flex-wrap:wrap;\n",
              "      gap: 12px;\n",
              "    }\n",
              "\n",
              "    .colab-df-convert {\n",
              "      background-color: #E8F0FE;\n",
              "      border: none;\n",
              "      border-radius: 50%;\n",
              "      cursor: pointer;\n",
              "      display: none;\n",
              "      fill: #1967D2;\n",
              "      height: 32px;\n",
              "      padding: 0 0 0 0;\n",
              "      width: 32px;\n",
              "    }\n",
              "\n",
              "    .colab-df-convert:hover {\n",
              "      background-color: #E2EBFA;\n",
              "      box-shadow: 0px 1px 2px rgba(60, 64, 67, 0.3), 0px 1px 3px 1px rgba(60, 64, 67, 0.15);\n",
              "      fill: #174EA6;\n",
              "    }\n",
              "\n",
              "    [theme=dark] .colab-df-convert {\n",
              "      background-color: #3B4455;\n",
              "      fill: #D2E3FC;\n",
              "    }\n",
              "\n",
              "    [theme=dark] .colab-df-convert:hover {\n",
              "      background-color: #434B5C;\n",
              "      box-shadow: 0px 1px 3px 1px rgba(0, 0, 0, 0.15);\n",
              "      filter: drop-shadow(0px 1px 2px rgba(0, 0, 0, 0.3));\n",
              "      fill: #FFFFFF;\n",
              "    }\n",
              "  </style>\n",
              "\n",
              "      <script>\n",
              "        const buttonEl =\n",
              "          document.querySelector('#df-351165eb-076a-4f47-af68-1ab1359840db button.colab-df-convert');\n",
              "        buttonEl.style.display =\n",
              "          google.colab.kernel.accessAllowed ? 'block' : 'none';\n",
              "\n",
              "        async function convertToInteractive(key) {\n",
              "          const element = document.querySelector('#df-351165eb-076a-4f47-af68-1ab1359840db');\n",
              "          const dataTable =\n",
              "            await google.colab.kernel.invokeFunction('convertToInteractive',\n",
              "                                                     [key], {});\n",
              "          if (!dataTable) return;\n",
              "\n",
              "          const docLinkHtml = 'Like what you see? Visit the ' +\n",
              "            '<a target=\"_blank\" href=https://colab.research.google.com/notebooks/data_table.ipynb>data table notebook</a>'\n",
              "            + ' to learn more about interactive tables.';\n",
              "          element.innerHTML = '';\n",
              "          dataTable['output_type'] = 'display_data';\n",
              "          await google.colab.output.renderOutput(dataTable, element);\n",
              "          const docLink = document.createElement('div');\n",
              "          docLink.innerHTML = docLinkHtml;\n",
              "          element.appendChild(docLink);\n",
              "        }\n",
              "      </script>\n",
              "    </div>\n",
              "  </div>\n",
              "  "
            ]
          },
          "metadata": {},
          "execution_count": 26
        }
      ],
      "source": [
        "data.head(1) #trianing data"
      ]
    },
    {
      "cell_type": "code",
      "execution_count": 27,
      "id": "abe6c0fd",
      "metadata": {
        "id": "abe6c0fd",
        "colab": {
          "base_uri": "https://localhost:8080/",
          "height": 211
        },
        "outputId": "f4a9922a-5180-4e0b-c155-386679705185"
      },
      "outputs": [
        {
          "output_type": "execute_result",
          "data": {
            "text/plain": [
              "                                                                                                                                                                                                  Abstract  \\\n",
              "0   Human face can be seen as a soft tissue organ complex with a large investing network of musculature . Due to its complexity most existing computational models approximate these muscular structure...   \n",
              "\n",
              "                                                                                                                                                                                                       RHS  \\\n",
              "0  We model the deformation of the human face due to muscle contraction. 3 D muscles with anatomical geometry and fibre orientation is used. Muscle forces are represented as discrete point load at th...   \n",
              "\n",
              "                                                                                                                                                                                          Abstract_cleaned  \\\n",
              "0  human face seen soft tissue organ complex large investing network musculature due complexity existing computational models approximate muscular structures using simple geometries curves primitive ...   \n",
              "\n",
              "                                                                                                                                                                                               RHS_cleaned  \n",
              "0  _START_ model deformation human face due muscle contraction muscles anatomical geometry fibre orientation used muscle forces represented discrete point load integration points increasing number em...  "
            ],
            "text/html": [
              "\n",
              "  <div id=\"df-397e6b82-004e-4ba4-8c9c-e669089afcef\">\n",
              "    <div class=\"colab-df-container\">\n",
              "      <div>\n",
              "<style scoped>\n",
              "    .dataframe tbody tr th:only-of-type {\n",
              "        vertical-align: middle;\n",
              "    }\n",
              "\n",
              "    .dataframe tbody tr th {\n",
              "        vertical-align: top;\n",
              "    }\n",
              "\n",
              "    .dataframe thead th {\n",
              "        text-align: right;\n",
              "    }\n",
              "</style>\n",
              "<table border=\"1\" class=\"dataframe\">\n",
              "  <thead>\n",
              "    <tr style=\"text-align: right;\">\n",
              "      <th></th>\n",
              "      <th>Abstract</th>\n",
              "      <th>RHS</th>\n",
              "      <th>Abstract_cleaned</th>\n",
              "      <th>RHS_cleaned</th>\n",
              "    </tr>\n",
              "  </thead>\n",
              "  <tbody>\n",
              "    <tr>\n",
              "      <th>0</th>\n",
              "      <td>Human face can be seen as a soft tissue organ complex with a large investing network of musculature . Due to its complexity most existing computational models approximate these muscular structure...</td>\n",
              "      <td>We model the deformation of the human face due to muscle contraction. 3 D muscles with anatomical geometry and fibre orientation is used. Muscle forces are represented as discrete point load at th...</td>\n",
              "      <td>human face seen soft tissue organ complex large investing network musculature due complexity existing computational models approximate muscular structures using simple geometries curves primitive ...</td>\n",
              "      <td>_START_ model deformation human face due muscle contraction muscles anatomical geometry fibre orientation used muscle forces represented discrete point load integration points increasing number em...</td>\n",
              "    </tr>\n",
              "  </tbody>\n",
              "</table>\n",
              "</div>\n",
              "      <button class=\"colab-df-convert\" onclick=\"convertToInteractive('df-397e6b82-004e-4ba4-8c9c-e669089afcef')\"\n",
              "              title=\"Convert this dataframe to an interactive table.\"\n",
              "              style=\"display:none;\">\n",
              "        \n",
              "  <svg xmlns=\"http://www.w3.org/2000/svg\" height=\"24px\"viewBox=\"0 0 24 24\"\n",
              "       width=\"24px\">\n",
              "    <path d=\"M0 0h24v24H0V0z\" fill=\"none\"/>\n",
              "    <path d=\"M18.56 5.44l.94 2.06.94-2.06 2.06-.94-2.06-.94-.94-2.06-.94 2.06-2.06.94zm-11 1L8.5 8.5l.94-2.06 2.06-.94-2.06-.94L8.5 2.5l-.94 2.06-2.06.94zm10 10l.94 2.06.94-2.06 2.06-.94-2.06-.94-.94-2.06-.94 2.06-2.06.94z\"/><path d=\"M17.41 7.96l-1.37-1.37c-.4-.4-.92-.59-1.43-.59-.52 0-1.04.2-1.43.59L10.3 9.45l-7.72 7.72c-.78.78-.78 2.05 0 2.83L4 21.41c.39.39.9.59 1.41.59.51 0 1.02-.2 1.41-.59l7.78-7.78 2.81-2.81c.8-.78.8-2.07 0-2.86zM5.41 20L4 18.59l7.72-7.72 1.47 1.35L5.41 20z\"/>\n",
              "  </svg>\n",
              "      </button>\n",
              "      \n",
              "  <style>\n",
              "    .colab-df-container {\n",
              "      display:flex;\n",
              "      flex-wrap:wrap;\n",
              "      gap: 12px;\n",
              "    }\n",
              "\n",
              "    .colab-df-convert {\n",
              "      background-color: #E8F0FE;\n",
              "      border: none;\n",
              "      border-radius: 50%;\n",
              "      cursor: pointer;\n",
              "      display: none;\n",
              "      fill: #1967D2;\n",
              "      height: 32px;\n",
              "      padding: 0 0 0 0;\n",
              "      width: 32px;\n",
              "    }\n",
              "\n",
              "    .colab-df-convert:hover {\n",
              "      background-color: #E2EBFA;\n",
              "      box-shadow: 0px 1px 2px rgba(60, 64, 67, 0.3), 0px 1px 3px 1px rgba(60, 64, 67, 0.15);\n",
              "      fill: #174EA6;\n",
              "    }\n",
              "\n",
              "    [theme=dark] .colab-df-convert {\n",
              "      background-color: #3B4455;\n",
              "      fill: #D2E3FC;\n",
              "    }\n",
              "\n",
              "    [theme=dark] .colab-df-convert:hover {\n",
              "      background-color: #434B5C;\n",
              "      box-shadow: 0px 1px 3px 1px rgba(0, 0, 0, 0.15);\n",
              "      filter: drop-shadow(0px 1px 2px rgba(0, 0, 0, 0.3));\n",
              "      fill: #FFFFFF;\n",
              "    }\n",
              "  </style>\n",
              "\n",
              "      <script>\n",
              "        const buttonEl =\n",
              "          document.querySelector('#df-397e6b82-004e-4ba4-8c9c-e669089afcef button.colab-df-convert');\n",
              "        buttonEl.style.display =\n",
              "          google.colab.kernel.accessAllowed ? 'block' : 'none';\n",
              "\n",
              "        async function convertToInteractive(key) {\n",
              "          const element = document.querySelector('#df-397e6b82-004e-4ba4-8c9c-e669089afcef');\n",
              "          const dataTable =\n",
              "            await google.colab.kernel.invokeFunction('convertToInteractive',\n",
              "                                                     [key], {});\n",
              "          if (!dataTable) return;\n",
              "\n",
              "          const docLinkHtml = 'Like what you see? Visit the ' +\n",
              "            '<a target=\"_blank\" href=https://colab.research.google.com/notebooks/data_table.ipynb>data table notebook</a>'\n",
              "            + ' to learn more about interactive tables.';\n",
              "          element.innerHTML = '';\n",
              "          dataTable['output_type'] = 'display_data';\n",
              "          await google.colab.output.renderOutput(dataTable, element);\n",
              "          const docLink = document.createElement('div');\n",
              "          docLink.innerHTML = docLinkHtml;\n",
              "          element.appendChild(docLink);\n",
              "        }\n",
              "      </script>\n",
              "    </div>\n",
              "  </div>\n",
              "  "
            ]
          },
          "metadata": {},
          "execution_count": 27
        }
      ],
      "source": [
        "data1.head(1) #testing data"
      ]
    },
    {
      "cell_type": "code",
      "execution_count": 28,
      "id": "2031074c",
      "metadata": {
        "id": "2031074c"
      },
      "outputs": [],
      "source": [
        "x_tr = data['Abstract_cleaned']\n",
        "y_tr = data['RHS_cleaned']\n",
        "x_val = data1['Abstract_cleaned']\n",
        "y_val = data1['RHS_cleaned']\n",
        "\n",
        "\n"
      ]
    },
    {
      "cell_type": "code",
      "execution_count": 29,
      "id": "28f1bc4b",
      "metadata": {
        "id": "28f1bc4b"
      },
      "outputs": [],
      "source": [
        "max_len_text = 200\n",
        "x_tokenizer = Tokenizer()\n",
        "x_tokenizer.fit_on_texts(list(x_tr))\n",
        "\n",
        "#convert text sequences into integer sequences\n",
        "x_tr    =   x_tokenizer.texts_to_sequences(x_tr) \n",
        "x_val   =   x_tokenizer.texts_to_sequences(x_val)\n",
        "\n",
        "#padding zero upto maximum length\n",
        "x_tr    =   pad_sequences(x_tr,  maxlen=max_len_text, padding='post') \n",
        "x_val   =   pad_sequences(x_val, maxlen=max_len_text, padding='post')\n",
        "\n",
        "x_voc_size   =  len(x_tokenizer.word_index) +1"
      ]
    },
    {
      "cell_type": "code",
      "execution_count": 30,
      "id": "6f4b38a3",
      "metadata": {
        "id": "6f4b38a3"
      },
      "outputs": [],
      "source": [
        "#preparing a tokenizer for summary on training data \n",
        "max_len_summary = 100\n",
        "y_tokenizer = Tokenizer()\n",
        "y_tokenizer.fit_on_texts(list(y_tr))\n",
        "\n",
        "#convert summary sequences into integer sequences\n",
        "y_tr    =   y_tokenizer.texts_to_sequences(y_tr) \n",
        "y_val   =   y_tokenizer.texts_to_sequences(y_val) \n",
        "\n",
        "#padding zero upto maximum length\n",
        "y_tr    =   pad_sequences(y_tr, maxlen=max_len_summary, padding='post')\n",
        "y_val   =   pad_sequences(y_val, maxlen=max_len_summary, padding='post')\n",
        "\n",
        "y_voc_size  =   len(y_tokenizer.word_index) +1"
      ]
    },
    {
      "cell_type": "code",
      "execution_count": 31,
      "id": "dcc6453b",
      "metadata": {
        "id": "dcc6453b",
        "colab": {
          "base_uri": "https://localhost:8080/"
        },
        "outputId": "627d0054-bc98-4b88-9645-5ec6a14f2e93"
      },
      "outputs": [
        {
          "output_type": "stream",
          "name": "stdout",
          "text": [
            "Model: \"model\"\n",
            "__________________________________________________________________________________________________\n",
            " Layer (type)                   Output Shape         Param #     Connected to                     \n",
            "==================================================================================================\n",
            " input_1 (InputLayer)           [(None, 200)]        0           []                               \n",
            "                                                                                                  \n",
            " embedding (Embedding)          (None, 200, 100)     1542800     ['input_1[0][0]']                \n",
            "                                                                                                  \n",
            " lstm (LSTM)                    [(None, 200, 100),   80400       ['embedding[0][0]']              \n",
            "                                 (None, 100),                                                     \n",
            "                                 (None, 100)]                                                     \n",
            "                                                                                                  \n",
            " input_2 (InputLayer)           [(None, None)]       0           []                               \n",
            "                                                                                                  \n",
            " lstm_1 (LSTM)                  [(None, 200, 100),   80400       ['lstm[0][0]']                   \n",
            "                                 (None, 100),                                                     \n",
            "                                 (None, 100)]                                                     \n",
            "                                                                                                  \n",
            " embedding_1 (Embedding)        (None, None, 100)    1005000     ['input_2[0][0]']                \n",
            "                                                                                                  \n",
            " lstm_2 (LSTM)                  [(None, 200, 100),   80400       ['lstm_1[0][0]']                 \n",
            "                                 (None, 100),                                                     \n",
            "                                 (None, 100)]                                                     \n",
            "                                                                                                  \n",
            " lstm_3 (LSTM)                  [(None, None, 100),  80400       ['embedding_1[0][0]',            \n",
            "                                 (None, 100),                     'lstm_2[0][1]',                 \n",
            "                                 (None, 100)]                     'lstm_2[0][2]']                 \n",
            "                                                                                                  \n",
            " attention_layer (AttentionLaye  ((None, None, 100),  20100      ['lstm_2[0][0]',                 \n",
            " r)                              (None, None, 200))               'lstm_3[0][0]']                 \n",
            "                                                                                                  \n",
            " concat_layer (Concatenate)     (None, None, 200)    0           ['lstm_3[0][0]',                 \n",
            "                                                                  'attention_layer[0][0]']        \n",
            "                                                                                                  \n",
            " time_distributed (TimeDistribu  (None, None, 10050)  2020050    ['concat_layer[0][0]']           \n",
            " ted)                                                                                             \n",
            "                                                                                                  \n",
            "==================================================================================================\n",
            "Total params: 4,909,550\n",
            "Trainable params: 4,909,550\n",
            "Non-trainable params: 0\n",
            "__________________________________________________________________________________________________\n"
          ]
        }
      ],
      "source": [
        "from keras import backend as K \n",
        "K.clear_session() \n",
        "latent_dim = 100\n",
        "\n",
        "# Encoder \n",
        "encoder_inputs = Input(shape=(max_len_text,)) \n",
        "enc_emb = Embedding(x_voc_size, latent_dim,trainable=True)(encoder_inputs) \n",
        "\n",
        "#LSTM 1 \n",
        "encoder_lstm1 = LSTM(latent_dim,return_sequences=True,return_state=True,dropout=0.2) \n",
        "encoder_output1, state_h1, state_c1= encoder_lstm1(enc_emb) \n",
        "\n",
        "#LSTM 2 \n",
        "encoder_lstm2 = LSTM(latent_dim,return_sequences=True,return_state=True,dropout=0.2) \n",
        "encoder_output2, state_h2, state_c2 = encoder_lstm2(encoder_output1) \n",
        "# encoder_outputs, state_h, state_c = encoder_lstm2(encoder_output1) \n",
        "\n",
        "#LSTM 3 \n",
        "encoder_lstm3=LSTM(latent_dim, return_state=True, return_sequences=True,dropout=0.2) \n",
        "encoder_outputs, state_h, state_c= encoder_lstm3(encoder_output2) \n",
        "\n",
        "# Set up the decoder. \n",
        "decoder_inputs = Input(shape=(None,)) \n",
        "dec_emb_layer = Embedding(y_voc_size, latent_dim,trainable=True) \n",
        "dec_emb = dec_emb_layer(decoder_inputs) \n",
        "\n",
        "#LSTM using encoder_states as initial state\n",
        "decoder_lstm = LSTM(latent_dim, return_sequences=True, return_state=True,dropout=0.2) \n",
        "decoder_outputs,decoder_fwd_state, decoder_back_state = decoder_lstm(dec_emb,initial_state=[state_h, state_c]) \n",
        "\n",
        "#Attention Layer\n",
        "# Attentionlayer\n",
        "attn_layer = AttentionLayer(name='attention_layer') \n",
        "attn_out, attn_states = attn_layer([encoder_outputs, decoder_outputs]) \n",
        "\n",
        "# Concat attention output and decoder LSTM output \n",
        "decoder_concat_input = Concatenate(axis=-1, name='concat_layer')([decoder_outputs, attn_out])\n",
        "\n",
        "#Dense layer\n",
        "decoder_dense = TimeDistributed(Dense(y_voc_size, activation='softmax')) \n",
        "decoder_outputs = decoder_dense(decoder_concat_input) \n",
        "\n",
        "# Define the model\n",
        "model = Model([encoder_inputs, decoder_inputs], decoder_outputs) \n",
        "model.summary()"
      ]
    },
    {
      "cell_type": "code",
      "execution_count": 32,
      "id": "3ae5d0e1",
      "metadata": {
        "id": "3ae5d0e1"
      },
      "outputs": [],
      "source": [
        "model.compile(optimizer='rmsprop', loss='sparse_categorical_crossentropy')"
      ]
    },
    {
      "cell_type": "code",
      "execution_count": 33,
      "id": "a31e5057",
      "metadata": {
        "id": "a31e5057"
      },
      "outputs": [],
      "source": [
        "es = EarlyStopping(monitor='val_loss', mode='min', verbose=1,patience=100)"
      ]
    },
    {
      "cell_type": "code",
      "execution_count": 34,
      "id": "dc540ab6",
      "metadata": {
        "id": "dc540ab6",
        "colab": {
          "base_uri": "https://localhost:8080/"
        },
        "outputId": "04cf94e3-260c-4716-d07c-742ee07cb80f"
      },
      "outputs": [
        {
          "output_type": "stream",
          "name": "stdout",
          "text": [
            "Epoch 1/100\n",
            "10/10 [==============================] - 27s 1s/step - loss: 7.1930 - val_loss: 4.1129\n",
            "Epoch 2/100\n",
            "10/10 [==============================] - 8s 790ms/step - loss: 4.3645 - val_loss: 3.2749\n",
            "Epoch 3/100\n",
            "10/10 [==============================] - 6s 630ms/step - loss: 4.0122 - val_loss: 3.0575\n",
            "Epoch 4/100\n",
            "10/10 [==============================] - 6s 628ms/step - loss: 3.8722 - val_loss: 2.9355\n",
            "Epoch 5/100\n",
            "10/10 [==============================] - 6s 625ms/step - loss: 3.7541 - val_loss: 2.8516\n",
            "Epoch 6/100\n",
            "10/10 [==============================] - 6s 628ms/step - loss: 3.6989 - val_loss: 2.8157\n",
            "Epoch 7/100\n",
            "10/10 [==============================] - 6s 624ms/step - loss: 3.6626 - val_loss: 2.8103\n",
            "Epoch 8/100\n",
            "10/10 [==============================] - 6s 625ms/step - loss: 3.6406 - val_loss: 2.7863\n",
            "Epoch 9/100\n",
            "10/10 [==============================] - 6s 628ms/step - loss: 3.6208 - val_loss: 2.7812\n",
            "Epoch 10/100\n",
            "10/10 [==============================] - 6s 641ms/step - loss: 3.6030 - val_loss: 2.7678\n",
            "Epoch 11/100\n",
            "10/10 [==============================] - 6s 629ms/step - loss: 3.5952 - val_loss: 2.7728\n",
            "Epoch 12/100\n",
            "10/10 [==============================] - 8s 780ms/step - loss: 3.5730 - val_loss: 2.7713\n",
            "Epoch 13/100\n",
            "10/10 [==============================] - 6s 639ms/step - loss: 3.5613 - val_loss: 2.7640\n",
            "Epoch 14/100\n",
            "10/10 [==============================] - 6s 634ms/step - loss: 3.5470 - val_loss: 2.8785\n",
            "Epoch 15/100\n",
            "10/10 [==============================] - 7s 679ms/step - loss: 3.5347 - val_loss: 2.8424\n",
            "Epoch 16/100\n",
            "10/10 [==============================] - 6s 644ms/step - loss: 3.5197 - val_loss: 2.8164\n",
            "Epoch 17/100\n",
            "10/10 [==============================] - 6s 651ms/step - loss: 3.5034 - val_loss: 2.8534\n",
            "Epoch 18/100\n",
            "10/10 [==============================] - 7s 659ms/step - loss: 3.4856 - val_loss: 2.9171\n",
            "Epoch 19/100\n",
            "10/10 [==============================] - 7s 666ms/step - loss: 3.4672 - val_loss: 2.8436\n",
            "Epoch 20/100\n",
            "10/10 [==============================] - 7s 670ms/step - loss: 3.4462 - val_loss: 2.8250\n",
            "Epoch 21/100\n",
            "10/10 [==============================] - 7s 654ms/step - loss: 3.4298 - val_loss: 2.8373\n",
            "Epoch 22/100\n",
            "10/10 [==============================] - 7s 660ms/step - loss: 3.4125 - val_loss: 2.8204\n",
            "Epoch 23/100\n",
            "10/10 [==============================] - 6s 651ms/step - loss: 3.3970 - val_loss: 2.8121\n",
            "Epoch 24/100\n",
            "10/10 [==============================] - 7s 660ms/step - loss: 3.3794 - val_loss: 2.8506\n",
            "Epoch 25/100\n",
            "10/10 [==============================] - 7s 662ms/step - loss: 3.3652 - val_loss: 2.8544\n",
            "Epoch 26/100\n",
            "10/10 [==============================] - 6s 641ms/step - loss: 3.3504 - val_loss: 2.8643\n",
            "Epoch 27/100\n",
            "10/10 [==============================] - 6s 646ms/step - loss: 3.3351 - val_loss: 2.8726\n",
            "Epoch 28/100\n",
            "10/10 [==============================] - 6s 642ms/step - loss: 3.3264 - val_loss: 2.8839\n",
            "Epoch 29/100\n",
            "10/10 [==============================] - 6s 646ms/step - loss: 3.3043 - val_loss: 2.9406\n",
            "Epoch 30/100\n",
            "10/10 [==============================] - 6s 649ms/step - loss: 3.2919 - val_loss: 2.9629\n",
            "Epoch 31/100\n",
            "10/10 [==============================] - 6s 646ms/step - loss: 3.2760 - val_loss: 2.9980\n",
            "Epoch 32/100\n",
            "10/10 [==============================] - 6s 652ms/step - loss: 3.2636 - val_loss: 2.9692\n",
            "Epoch 33/100\n",
            "10/10 [==============================] - 7s 655ms/step - loss: 3.2502 - val_loss: 2.9751\n",
            "Epoch 34/100\n",
            "10/10 [==============================] - 6s 653ms/step - loss: 3.2340 - val_loss: 2.9511\n",
            "Epoch 35/100\n",
            "10/10 [==============================] - 6s 652ms/step - loss: 3.2210 - val_loss: 2.9462\n",
            "Epoch 36/100\n",
            "10/10 [==============================] - 7s 658ms/step - loss: 3.2059 - val_loss: 2.9283\n",
            "Epoch 37/100\n",
            "10/10 [==============================] - 7s 698ms/step - loss: 3.1927 - val_loss: 2.9561\n",
            "Epoch 38/100\n",
            "10/10 [==============================] - 7s 657ms/step - loss: 3.1833 - val_loss: 2.9698\n",
            "Epoch 39/100\n",
            "10/10 [==============================] - 6s 645ms/step - loss: 3.1682 - val_loss: 2.9494\n",
            "Epoch 40/100\n",
            "10/10 [==============================] - 6s 651ms/step - loss: 3.1558 - val_loss: 2.9733\n",
            "Epoch 41/100\n",
            "10/10 [==============================] - 6s 648ms/step - loss: 3.1432 - val_loss: 2.9832\n",
            "Epoch 42/100\n",
            "10/10 [==============================] - 6s 647ms/step - loss: 3.1344 - val_loss: 3.0131\n",
            "Epoch 43/100\n",
            "10/10 [==============================] - 6s 644ms/step - loss: 3.1193 - val_loss: 2.9917\n",
            "Epoch 44/100\n",
            "10/10 [==============================] - 6s 644ms/step - loss: 3.1070 - val_loss: 2.9668\n",
            "Epoch 45/100\n",
            "10/10 [==============================] - 6s 653ms/step - loss: 3.0964 - val_loss: 2.9762\n",
            "Epoch 46/100\n",
            "10/10 [==============================] - 7s 654ms/step - loss: 3.0846 - val_loss: 2.9825\n",
            "Epoch 47/100\n",
            "10/10 [==============================] - 7s 655ms/step - loss: 3.0709 - val_loss: 2.9788\n",
            "Epoch 48/100\n",
            "10/10 [==============================] - 6s 652ms/step - loss: 3.0582 - val_loss: 3.0160\n",
            "Epoch 49/100\n",
            "10/10 [==============================] - 7s 701ms/step - loss: 3.0486 - val_loss: 3.0131\n",
            "Epoch 50/100\n",
            "10/10 [==============================] - 6s 645ms/step - loss: 3.0336 - val_loss: 3.0206\n",
            "Epoch 51/100\n",
            "10/10 [==============================] - 6s 651ms/step - loss: 3.0257 - val_loss: 3.0244\n",
            "Epoch 52/100\n",
            "10/10 [==============================] - 6s 643ms/step - loss: 3.0123 - val_loss: 3.0173\n",
            "Epoch 53/100\n",
            "10/10 [==============================] - 7s 659ms/step - loss: 2.9975 - val_loss: 3.0170\n",
            "Epoch 54/100\n",
            "10/10 [==============================] - 7s 669ms/step - loss: 2.9882 - val_loss: 3.0333\n",
            "Epoch 55/100\n",
            "10/10 [==============================] - 7s 678ms/step - loss: 2.9726 - val_loss: 3.0484\n",
            "Epoch 56/100\n",
            "10/10 [==============================] - 7s 675ms/step - loss: 2.9628 - val_loss: 3.0219\n",
            "Epoch 57/100\n",
            "10/10 [==============================] - 7s 675ms/step - loss: 2.9495 - val_loss: 2.9867\n",
            "Epoch 58/100\n",
            "10/10 [==============================] - 7s 669ms/step - loss: 2.9371 - val_loss: 2.9988\n",
            "Epoch 59/100\n",
            "10/10 [==============================] - 7s 674ms/step - loss: 2.9286 - val_loss: 3.0365\n",
            "Epoch 60/100\n",
            "10/10 [==============================] - 7s 659ms/step - loss: 2.9137 - val_loss: 3.0102\n",
            "Epoch 61/100\n",
            "10/10 [==============================] - 7s 679ms/step - loss: 2.9004 - val_loss: 3.0052\n",
            "Epoch 62/100\n",
            "10/10 [==============================] - 7s 659ms/step - loss: 2.8903 - val_loss: 3.0237\n",
            "Epoch 63/100\n",
            "10/10 [==============================] - 7s 655ms/step - loss: 2.8791 - val_loss: 3.0526\n",
            "Epoch 64/100\n",
            "10/10 [==============================] - 6s 648ms/step - loss: 2.8661 - val_loss: 3.0488\n",
            "Epoch 65/100\n",
            "10/10 [==============================] - 6s 646ms/step - loss: 2.8556 - val_loss: 3.0378\n",
            "Epoch 66/100\n",
            "10/10 [==============================] - 7s 660ms/step - loss: 2.8410 - val_loss: 3.0571\n",
            "Epoch 67/100\n",
            "10/10 [==============================] - 7s 660ms/step - loss: 2.8297 - val_loss: 3.0636\n",
            "Epoch 68/100\n",
            "10/10 [==============================] - 7s 673ms/step - loss: 2.8212 - val_loss: 3.0439\n",
            "Epoch 69/100\n",
            "10/10 [==============================] - 7s 674ms/step - loss: 2.8060 - val_loss: 3.0611\n",
            "Epoch 70/100\n",
            "10/10 [==============================] - 7s 674ms/step - loss: 2.7932 - val_loss: 3.0590\n",
            "Epoch 71/100\n",
            "10/10 [==============================] - 7s 676ms/step - loss: 2.7845 - val_loss: 3.0683\n",
            "Epoch 72/100\n",
            "10/10 [==============================] - 7s 677ms/step - loss: 2.7727 - val_loss: 3.0723\n",
            "Epoch 73/100\n",
            "10/10 [==============================] - 7s 673ms/step - loss: 2.7605 - val_loss: 3.0813\n",
            "Epoch 74/100\n",
            "10/10 [==============================] - 7s 690ms/step - loss: 2.7492 - val_loss: 3.0768\n",
            "Epoch 75/100\n",
            "10/10 [==============================] - 7s 661ms/step - loss: 2.7346 - val_loss: 3.0920\n",
            "Epoch 76/100\n",
            "10/10 [==============================] - 7s 668ms/step - loss: 2.7278 - val_loss: 3.0541\n",
            "Epoch 77/100\n",
            "10/10 [==============================] - 7s 666ms/step - loss: 2.7127 - val_loss: 3.0939\n",
            "Epoch 78/100\n",
            "10/10 [==============================] - 7s 680ms/step - loss: 2.7005 - val_loss: 3.0625\n",
            "Epoch 79/100\n",
            "10/10 [==============================] - 7s 669ms/step - loss: 2.6914 - val_loss: 3.0954\n",
            "Epoch 80/100\n",
            "10/10 [==============================] - 7s 675ms/step - loss: 2.6800 - val_loss: 3.0910\n",
            "Epoch 81/100\n",
            "10/10 [==============================] - 7s 679ms/step - loss: 2.6666 - val_loss: 3.0898\n",
            "Epoch 82/100\n",
            "10/10 [==============================] - 7s 665ms/step - loss: 2.6563 - val_loss: 3.0911\n",
            "Epoch 83/100\n",
            "10/10 [==============================] - 7s 670ms/step - loss: 2.6459 - val_loss: 3.0721\n",
            "Epoch 84/100\n",
            "10/10 [==============================] - 7s 675ms/step - loss: 2.6357 - val_loss: 3.0944\n",
            "Epoch 85/100\n",
            "10/10 [==============================] - 7s 678ms/step - loss: 2.6216 - val_loss: 3.1100\n",
            "Epoch 86/100\n",
            "10/10 [==============================] - 7s 685ms/step - loss: 2.6109 - val_loss: 3.1097\n",
            "Epoch 87/100\n",
            "10/10 [==============================] - 7s 673ms/step - loss: 2.5999 - val_loss: 3.1017\n",
            "Epoch 88/100\n",
            "10/10 [==============================] - 7s 671ms/step - loss: 2.5890 - val_loss: 3.1161\n",
            "Epoch 89/100\n",
            "10/10 [==============================] - 7s 689ms/step - loss: 2.5805 - val_loss: 3.1264\n",
            "Epoch 90/100\n",
            "10/10 [==============================] - 7s 673ms/step - loss: 2.5656 - val_loss: 3.1035\n",
            "Epoch 91/100\n",
            "10/10 [==============================] - 7s 665ms/step - loss: 2.5561 - val_loss: 3.0879\n",
            "Epoch 92/100\n",
            "10/10 [==============================] - 7s 677ms/step - loss: 2.5427 - val_loss: 3.1191\n",
            "Epoch 93/100\n",
            "10/10 [==============================] - 7s 672ms/step - loss: 2.5345 - val_loss: 3.1396\n",
            "Epoch 94/100\n",
            "10/10 [==============================] - 7s 674ms/step - loss: 2.5230 - val_loss: 3.1146\n",
            "Epoch 95/100\n",
            "10/10 [==============================] - 7s 667ms/step - loss: 2.5142 - val_loss: 3.1039\n",
            "Epoch 96/100\n",
            "10/10 [==============================] - 7s 671ms/step - loss: 2.4991 - val_loss: 3.1321\n",
            "Epoch 97/100\n",
            "10/10 [==============================] - 7s 668ms/step - loss: 2.4924 - val_loss: 3.1353\n",
            "Epoch 98/100\n",
            "10/10 [==============================] - 7s 716ms/step - loss: 2.4819 - val_loss: 3.1264\n",
            "Epoch 99/100\n",
            "10/10 [==============================] - 7s 668ms/step - loss: 2.4673 - val_loss: 3.1148\n",
            "Epoch 100/100\n",
            "10/10 [==============================] - 7s 668ms/step - loss: 2.4611 - val_loss: 3.1318\n"
          ]
        }
      ],
      "source": [
        "history=model.fit([x_tr,y_tr[:,:-1]], y_tr.reshape(y_tr.shape[0],y_tr.shape[1], 1)[:,1:] ,epochs=100,callbacks=[es],batch_size=200, validation_data=([x_val,y_val[:,:-1]], y_val.reshape(y_val.shape[0],y_val.shape[1], 1)[:,1:]))"
      ]
    },
    {
      "cell_type": "code",
      "execution_count": 35,
      "id": "0a4d8279",
      "metadata": {
        "id": "0a4d8279",
        "colab": {
          "base_uri": "https://localhost:8080/",
          "height": 265
        },
        "outputId": "ed105110-eec2-43d4-f6b9-21625a6bb09a"
      },
      "outputs": [
        {
          "output_type": "display_data",
          "data": {
            "text/plain": [
              "<Figure size 432x288 with 1 Axes>"
            ],
            "image/png": "[encoded data removed]"
          },
          "metadata": {
            "needs_background": "light"
          }
        }
      ],
      "source": [
        "from matplotlib import pyplot \n",
        "pyplot.plot(history.history['loss'], label='train') \n",
        "pyplot.plot(history.history['val_loss'], label='test') \n",
        "pyplot.legend() \n",
        "pyplot.show()"
      ]
    },
    {
      "cell_type": "code",
      "execution_count": 36,
      "id": "_KbdHmRFUWmO",
      "metadata": {
        "id": "_KbdHmRFUWmO"
      },
      "outputs": [],
      "source": [
        "reverse_target_word_index=y_tokenizer.index_word \n",
        "reverse_source_word_index=x_tokenizer.index_word \n",
        "target_word_index=y_tokenizer.word_index"
      ]
    },
    {
      "cell_type": "code",
      "execution_count": 37,
      "id": "4eymNG2nUcX7",
      "metadata": {
        "id": "4eymNG2nUcX7"
      },
      "outputs": [],
      "source": [
        "# encoder inference\n",
        "encoder_model = Model(inputs=encoder_inputs,outputs=[encoder_outputs, state_h, state_c])\n",
        "\n",
        "# decoder inference\n",
        "# Below tensors will hold the states of the previous time step\n",
        "decoder_state_input_h = Input(shape=(latent_dim,))\n",
        "decoder_state_input_c = Input(shape=(latent_dim,))\n",
        "decoder_hidden_state_input = Input(shape=(max_len_text,latent_dim))\n",
        "\n",
        "# Get the embeddings of the decoder sequence\n",
        "dec_emb2= dec_emb_layer(decoder_inputs)\n",
        "\n",
        "# To predict the next word in the sequence, set the initial states to the states from the previous time step\n",
        "decoder_outputs2, state_h2, state_c2 = decoder_lstm(dec_emb2, initial_state=[decoder_state_input_h, decoder_state_input_c])\n",
        "\n",
        "#attention inference\n",
        "attn_out_inf, attn_states_inf = attn_layer([decoder_hidden_state_input, decoder_outputs2])\n",
        "decoder_inf_concat = Concatenate(axis=-1, name='concat')([decoder_outputs2, attn_out_inf])\n",
        "\n",
        "# A dense softmax layer to generate prob dist. over the target vocabulary\n",
        "decoder_outputs2 = decoder_dense(decoder_inf_concat)\n",
        "\n",
        "# Final decoder model\n",
        "decoder_model = Model(\n",
        "[decoder_inputs] + [decoder_hidden_state_input,decoder_state_input_h, decoder_state_input_c],\n",
        "[decoder_outputs2] + [state_h2, state_c2])"
      ]
    },
    {
      "cell_type": "code",
      "execution_count": 38,
      "id": "iE8NUAG-UydH",
      "metadata": {
        "id": "iE8NUAG-UydH"
      },
      "outputs": [],
      "source": [
        "def decode_sequence(input_seq):\n",
        "    # Encode the input as state vectors.\n",
        "    e_out, e_h, e_c = encoder_model.predict(input_seq)\n",
        "\n",
        "    # Generate empty target sequence of length 1.\n",
        "    target_seq = np.zeros((1,1))\n",
        "\n",
        "    # Chose the 'start' word as the first word of the target sequence\n",
        "    target_seq[0, 0] = target_word_index['start']\n",
        "\n",
        "    stop_condition = False\n",
        "    decoded_sentence = ''\n",
        "    while not stop_condition:\n",
        "        output_tokens, h, c = decoder_model.predict([target_seq] + [e_out, e_h, e_c])\n",
        "\n",
        "        # Sample a token\n",
        "        sampled_token_index = np.argmax(output_tokens[0, -1, :])\n",
        "        sampled_token = reverse_target_word_index[sampled_token_index]\n",
        "\n",
        "        if(sampled_token!='end'):\n",
        "            decoded_sentence += ' '+sampled_token\n",
        "\n",
        "            # Exit condition: either hit max length or find stop word.\n",
        "        if (sampled_token == 'end' or len(decoded_sentence.split()) >= (max_len_summary-1)):\n",
        "            stop_condition = True\n",
        "\n",
        "        # Update the target sequence (of length 1).\n",
        "        target_seq = np.zeros((1,1))\n",
        "        target_seq[0, 0] = sampled_token_index\n",
        "\n",
        "        # Update internal states\n",
        "        e_h, e_c = h, c\n",
        "\n",
        "    return decoded_sentence"
      ]
    },
    {
      "cell_type": "code",
      "execution_count": 39,
      "id": "QqxTzPuqU1tZ",
      "metadata": {
        "id": "QqxTzPuqU1tZ"
      },
      "outputs": [],
      "source": [
        "def seq2summary(input_seq):\n",
        "    newString=''\n",
        "    for i in input_seq:\n",
        "      if((i!=0 and i!=target_word_index['start']) and i!=target_word_index['end']):\n",
        "        newString=newString+reverse_target_word_index[i]+' '\n",
        "    return newString\n",
        "\n",
        "def seq2text(input_seq):\n",
        "    newString=''\n",
        "    for i in input_seq:\n",
        "      if(i!=0):\n",
        "        newString=newString+reverse_source_word_index[i]+' '\n",
        "    return newString\n",
        "    "
      ]
    },
    {
      "cell_type": "code",
      "execution_count": 40,
      "id": "EvH3z202U4HK",
      "metadata": {
        "id": "EvH3z202U4HK",
        "colab": {
          "base_uri": "https://localhost:8080/"
        },
        "outputId": "5aabc10d-590a-450d-9538-37a3e84c0ef8"
      },
      "outputs": [
        {
          "output_type": "stream",
          "name": "stdout",
          "text": [
            "Review: human face seen soft tissue organ complex large investing network due complexity existing computational models approximate muscular structures using simple geometries curves primitive shapes paper presents new approach evaluate muscle contribution anatomically accurate geometries maintaining computational complexity tractable level proposed method muscle structures embedded inside facial continuum mechanical contribution muscles evaluated independently transferred facial computational domain finite element mapping procedure muscle forces decomposed array discrete point loads determined integration points appropriate quadrature scheme result muscle meshes constructed independent facial mesh giving two main advantages muscle geometries refined independent facial computational domain required computational domain conform complex topology muscle structures \n",
            "Original summary: model deformation human face due muscle anatomical geometry orientation used muscle forces represented discrete point load integration points increasing number embedded increase degrees freedom \n",
            "Predicted summary:  we propose new method for the image and object of the image we propose an method for the problem of the implicit of the upper image we propose an method for the model of the method for the problem of the proposed method is also to be used to the the proposed method\n",
            "\n",
            "\n",
            "Review: paper use numerical procedure analyse bifurcation inflated hyperelastic thick walled based modified method particular mode bifurcation exploited context formation cylindrical geometry cardiovascular diseases focus materials two preferred directions mechanically equivalent arterial wall tissue modeled class constitutive equation showing significant stiffening behaviour onset considered give formation analytical solutions found literature particular conditions involving specific material models loads applied well usually perfect geometry provide unified approach prediction bifurcation propagation applied general conditions furthermore show instability conditions hand propagates agreement propagation arterial wall tissue \n",
            "Original summary: bifurcation inflated thick analysed mode bifurcation exploited context formation onset considered give formation shown propagate propagate arterial wall tissue \n",
            "Predicted summary:  we propose novel model for the supply and mobile forwarding and the netework of the supply of the protected holder networks of the copyright welfare model is used to the supply of the supply of the welfare welfare the copyright welfare the copyright welfare model is advised to simulate the supply of the dunbar welfare networks\n",
            "\n",
            "\n",
            "Review: similar goals end users products segmented different market groups based kind expectations related products companies competing share single several market segments company consider customer segments changing requirements towards products cost effectiveness offering product variants one challenge paper studies kind environment research background familiar studying companies operate projecting business produce products small series surroundings costs engineering relatively high comparison cost producing product case discussed section considers similar context product variety describes number different versions product offered firm single point time companies able respond different customer needs keeping operations profitable challenge product platforms product families product configuration suggested product development considered part mass paradigm linking product platform product family development approaches product configuration aspects unusual design methods although importance highlighted separately supporting design reuse enabling several benefits business environment companies consequently need study structure key engineering concepts field concepts could order support design situation existing product variety towards modular product family supports product configuration focus existing product variety example describes designing completely new product rare manufacturing industry risks paper presents advanced method description approach modular product family development compared earlier publication considering research method current situation analysed first original method description consider relevant aspects though considered industrial case discussed paper conclusion supported \n",
            "Original summary: existing methods modular product family development reviewed key engineering concepts field suggested considering key engineering concepts single design method rare method considers key engineering concepts presented method helps defining design information related key concepts \n",
            "Predicted summary:  we propose novel method for the problem of the proposed algorithm is proposed the proposed method is used to the proposed model the proposed method is proposed the proposed method is used to the proposed model is proposed the proposed method is compared to the proposed method is compared to the proposed model\n",
            "\n",
            "\n",
            "Review: order investigate microstructure evolution inertia friction process ring part dynamic kinetic model established two dimensional axisymmetric coupled mechanical finite element model developed using msc marc software second development msc marc dynamic kinetic model integrated finite element model simulate microstructure evolution inertia friction process distributions dynamic fraction average grain size inertia friction process obtained analyzed inertia friction experiments ring parts carried comparison results show simulated results agree well measured ones \n",
            "Original summary: model process established coupled mechanical model process established evolution process simulated fraction average grain size process predicted accurately \n",
            "Predicted summary:  we present the model for the supply of the supply of the supply of the supply of the supply chain of the optimal welfare of the copyright welfare the copyright holder welfare the copyright holder welfare the copyright welfare dvr the copyright holder welfare dvr the copyright welfare the copyright welfare dvr the copyright welfare the court is advised to simulate the supply of the dunbar welfare and interconnect the interconnect of the dsp dsp and interconnect of sha of the dunbar welfare sha we present the dsp dsp and interconnect the dsp dsp and interconnect the dsp dsp\n",
            "\n",
            "\n",
            "Review: efficient approach proposed order predict mechanical response complex industrial parts structures usually composed massive thin parts different models mixed together transition different kinematic assumptions problematic non linear models employed depending plate model considered moreover finite element analysis case large complex implies tedious meshing steps idealization simplification structures mix finite elements usually takes therefore significantly time analysis objective present contribution explore calculation process enables simple automation meshing steps even though potentially computationally expensive meshing automation may lead drastic time reduction cad mesh process much tighter link cad calculated assembly finally easier faster design explorations would allowed strategy relies use non quadratic approximation defined sufficiently fine mesh extended finite element method used order alleviate meshing issues mesh level set function built cad input means automated approach strategy verified analytical solutions real aerospace \n",
            "Original summary: propose pragmatic approach simulating complex industrial parts issues avoided thanks fem conversion cad level set function use solid elements order treat massive parts encouraging results shown \n",
            "Predicted summary:  we propose novel method for the image and object of the onlooker we propose novel method for the implicit problem of the implicit of homologous bees to the unvisited unvisited interpolants we propose an method to obtain the unvisited plates more more available by the faps faps can be used to the sentences the proposed method for the same the proposed method is not removed by the same image\n",
            "\n",
            "\n"
          ]
        }
      ],
      "source": [
        "for i in range(5):\n",
        "  print(\"Review:\",seq2text(x_val[i]))\n",
        "  print(\"Original summary:\",seq2summary(y_val[i]))\n",
        "  print(\"Predicted summary:\",decode_sequence(x_val[i].reshape(1,max_len_text)))\n",
        "  print(\"\\n\")"
      ]
    },
    {
      "cell_type": "code",
      "source": [
        "pip install rouge"
      ],
      "metadata": {
        "colab": {
          "base_uri": "https://localhost:8080/"
        },
        "id": "IaJs_ni8dyB6",
        "outputId": "81d23f98-309b-49a7-efaf-9d11d09b1f19"
      },
      "id": "IaJs_ni8dyB6",
      "execution_count": 42,
      "outputs": [
        {
          "output_type": "stream",
          "name": "stdout",
          "text": [
            "Looking in indexes: https://pypi.org/simple, https://us-python.pkg.dev/colab-wheels/public/simple/\n",
            "Collecting rouge\n",
            "  Downloading rouge-1.0.1-py3-none-any.whl (13 kB)\n",
            "Requirement already satisfied: six in /usr/local/lib/python3.7/dist-packages (from rouge) (1.15.0)\n",
            "Installing collected packages: rouge\n",
            "Successfully installed rouge-1.0.1\n"
          ]
        }
      ]
    },
    {
      "cell_type": "code",
      "source": [
        "from rouge import Rouge\n",
        "ROUGE = Rouge()"
      ],
      "metadata": {
        "id": "BS7t4EwfduwL"
      },
      "id": "BS7t4EwfduwL",
      "execution_count": 43,
      "outputs": []
    },
    {
      "cell_type": "code",
      "source": [
        "ROUGE.get_scores(f'{seq2summary(y_val[3])}',\n",
        "                      f'{decode_sequence(x_val[3].reshape(1,max_len_text))}')"
      ],
      "metadata": {
        "colab": {
          "base_uri": "https://localhost:8080/"
        },
        "id": "NAgHoEvvdvYT",
        "outputId": "6f8ad8ad-5471-48ab-f708-48b9da2a5005"
      },
      "id": "NAgHoEvvdvYT",
      "execution_count": 50,
      "outputs": [
        {
          "output_type": "execute_result",
          "data": {
            "text/plain": [
              "[{'rouge-1': {'r': 0.043478260869565216,\n",
              "   'p': 0.07692307692307693,\n",
              "   'f': 0.05555555094135841},\n",
              "  'rouge-2': {'r': 0.0, 'p': 0.0, 'f': 0.0},\n",
              "  'rouge-l': {'r': 0.043478260869565216,\n",
              "   'p': 0.07692307692307693,\n",
              "   'f': 0.05555555094135841}}]"
            ]
          },
          "metadata": {},
          "execution_count": 50
        }
      ]
    },
    {
      "cell_type": "code",
      "source": [
        "pip install rouge_score"
      ],
      "metadata": {
        "id": "QzDtwW8eeKEH"
      },
      "id": "QzDtwW8eeKEH",
      "execution_count": 48,
      "outputs": []
    },
    {
      "cell_type": "code",
      "source": [
        "from rouge_score import rouge_scorer\n",
        "scorer = rouge_scorer.RougeScorer(['rouge1', 'rougeL'], use_stemmer=True)\n",
        "scores = scorer.score(f'{seq2summary(y_val[3])}',\n",
        "                      f'{decode_sequence(x_val[3].reshape(1,max_len_text))}')\n",
        "print(scores)"
      ],
      "metadata": {
        "colab": {
          "base_uri": "https://localhost:8080/"
        },
        "id": "OrJCg9VEeK_J",
        "outputId": "045fe318-0d59-4d5c-c51b-c03dbeb1e841"
      },
      "id": "OrJCg9VEeK_J",
      "execution_count": 49,
      "outputs": [
        {
          "output_type": "stream",
          "name": "stdout",
          "text": [
            "{'rouge1': Score(precision=0.020202020202020204, recall=0.1111111111111111, fmeasure=0.03418803418803419), 'rougeL': Score(precision=0.020202020202020204, recall=0.1111111111111111, fmeasure=0.03418803418803419)}\n"
          ]
        }
      ]
    },
    {
      "cell_type": "code",
      "source": [
        "test_data = pd.read_csv('test.csv')\n",
        "test_data.head()"
      ],
      "metadata": {
        "colab": {
          "base_uri": "https://localhost:8080/",
          "height": 337
        },
        "id": "ORG7qOACee_d",
        "outputId": "928f63ff-a14a-48ec-f28b-08d4dcede934"
      },
      "id": "ORG7qOACee_d",
      "execution_count": 51,
      "outputs": [
        {
          "output_type": "execute_result",
          "data": {
            "text/plain": [
              "            FileName  \\\n",
              "0  S0010448513001553   \n",
              "1  S0010448513002418   \n",
              "2  S0010448513001644   \n",
              "3  S0010448514000268   \n",
              "4  S0010448513001413   \n",
              "\n",
              "                                                                                                                                                                                                  Abstract  \n",
              "0   We explore the notion of a Well spaced Blue noise Distribution WBD of points which combines two desirable properties. First the point distribution is random as measured by its spectrum having blu...  \n",
              "1   3D garments are created by assembling 2D patterns on human models in current mainstream garment modeling methods which usually calls for professional design skills. The high coupling between the ...  \n",
              "2   We present a novel approach to feature aware mesh deformation . Previous mesh editing methods are based on an elastic deformation model and thus tend to uniformly distribute the distortion in a l...  \n",
              "3   This paper presents an algorithm for decomposing complex line drawings which depict connected 3D manifolds into multiple simpler drawings of individual manifolds . The decomposition process has t...  \n",
              "4   We present a new hybrid method for solving constrained numerical and engineering optimization problems in this paper . The proposed hybrid method takes advantage of the differential evolution abi...  "
            ],
            "text/html": [
              "\n",
              "  <div id=\"df-095ea109-ff06-454c-9692-55e0718bac7f\">\n",
              "    <div class=\"colab-df-container\">\n",
              "      <div>\n",
              "<style scoped>\n",
              "    .dataframe tbody tr th:only-of-type {\n",
              "        vertical-align: middle;\n",
              "    }\n",
              "\n",
              "    .dataframe tbody tr th {\n",
              "        vertical-align: top;\n",
              "    }\n",
              "\n",
              "    .dataframe thead th {\n",
              "        text-align: right;\n",
              "    }\n",
              "</style>\n",
              "<table border=\"1\" class=\"dataframe\">\n",
              "  <thead>\n",
              "    <tr style=\"text-align: right;\">\n",
              "      <th></th>\n",
              "      <th>FileName</th>\n",
              "      <th>Abstract</th>\n",
              "    </tr>\n",
              "  </thead>\n",
              "  <tbody>\n",
              "    <tr>\n",
              "      <th>0</th>\n",
              "      <td>S0010448513001553</td>\n",
              "      <td>We explore the notion of a Well spaced Blue noise Distribution WBD of points which combines two desirable properties. First the point distribution is random as measured by its spectrum having blu...</td>\n",
              "    </tr>\n",
              "    <tr>\n",
              "      <th>1</th>\n",
              "      <td>S0010448513002418</td>\n",
              "      <td>3D garments are created by assembling 2D patterns on human models in current mainstream garment modeling methods which usually calls for professional design skills. The high coupling between the ...</td>\n",
              "    </tr>\n",
              "    <tr>\n",
              "      <th>2</th>\n",
              "      <td>S0010448513001644</td>\n",
              "      <td>We present a novel approach to feature aware mesh deformation . Previous mesh editing methods are based on an elastic deformation model and thus tend to uniformly distribute the distortion in a l...</td>\n",
              "    </tr>\n",
              "    <tr>\n",
              "      <th>3</th>\n",
              "      <td>S0010448514000268</td>\n",
              "      <td>This paper presents an algorithm for decomposing complex line drawings which depict connected 3D manifolds into multiple simpler drawings of individual manifolds . The decomposition process has t...</td>\n",
              "    </tr>\n",
              "    <tr>\n",
              "      <th>4</th>\n",
              "      <td>S0010448513001413</td>\n",
              "      <td>We present a new hybrid method for solving constrained numerical and engineering optimization problems in this paper . The proposed hybrid method takes advantage of the differential evolution abi...</td>\n",
              "    </tr>\n",
              "  </tbody>\n",
              "</table>\n",
              "</div>\n",
              "      <button class=\"colab-df-convert\" onclick=\"convertToInteractive('df-095ea109-ff06-454c-9692-55e0718bac7f')\"\n",
              "              title=\"Convert this dataframe to an interactive table.\"\n",
              "              style=\"display:none;\">\n",
              "        \n",
              "  <svg xmlns=\"http://www.w3.org/2000/svg\" height=\"24px\"viewBox=\"0 0 24 24\"\n",
              "       width=\"24px\">\n",
              "    <path d=\"M0 0h24v24H0V0z\" fill=\"none\"/>\n",
              "    <path d=\"M18.56 5.44l.94 2.06.94-2.06 2.06-.94-2.06-.94-.94-2.06-.94 2.06-2.06.94zm-11 1L8.5 8.5l.94-2.06 2.06-.94-2.06-.94L8.5 2.5l-.94 2.06-2.06.94zm10 10l.94 2.06.94-2.06 2.06-.94-2.06-.94-.94-2.06-.94 2.06-2.06.94z\"/><path d=\"M17.41 7.96l-1.37-1.37c-.4-.4-.92-.59-1.43-.59-.52 0-1.04.2-1.43.59L10.3 9.45l-7.72 7.72c-.78.78-.78 2.05 0 2.83L4 21.41c.39.39.9.59 1.41.59.51 0 1.02-.2 1.41-.59l7.78-7.78 2.81-2.81c.8-.78.8-2.07 0-2.86zM5.41 20L4 18.59l7.72-7.72 1.47 1.35L5.41 20z\"/>\n",
              "  </svg>\n",
              "      </button>\n",
              "      \n",
              "  <style>\n",
              "    .colab-df-container {\n",
              "      display:flex;\n",
              "      flex-wrap:wrap;\n",
              "      gap: 12px;\n",
              "    }\n",
              "\n",
              "    .colab-df-convert {\n",
              "      background-color: #E8F0FE;\n",
              "      border: none;\n",
              "      border-radius: 50%;\n",
              "      cursor: pointer;\n",
              "      display: none;\n",
              "      fill: #1967D2;\n",
              "      height: 32px;\n",
              "      padding: 0 0 0 0;\n",
              "      width: 32px;\n",
              "    }\n",
              "\n",
              "    .colab-df-convert:hover {\n",
              "      background-color: #E2EBFA;\n",
              "      box-shadow: 0px 1px 2px rgba(60, 64, 67, 0.3), 0px 1px 3px 1px rgba(60, 64, 67, 0.15);\n",
              "      fill: #174EA6;\n",
              "    }\n",
              "\n",
              "    [theme=dark] .colab-df-convert {\n",
              "      background-color: #3B4455;\n",
              "      fill: #D2E3FC;\n",
              "    }\n",
              "\n",
              "    [theme=dark] .colab-df-convert:hover {\n",
              "      background-color: #434B5C;\n",
              "      box-shadow: 0px 1px 3px 1px rgba(0, 0, 0, 0.15);\n",
              "      filter: drop-shadow(0px 1px 2px rgba(0, 0, 0, 0.3));\n",
              "      fill: #FFFFFF;\n",
              "    }\n",
              "  </style>\n",
              "\n",
              "      <script>\n",
              "        const buttonEl =\n",
              "          document.querySelector('#df-095ea109-ff06-454c-9692-55e0718bac7f button.colab-df-convert');\n",
              "        buttonEl.style.display =\n",
              "          google.colab.kernel.accessAllowed ? 'block' : 'none';\n",
              "\n",
              "        async function convertToInteractive(key) {\n",
              "          const element = document.querySelector('#df-095ea109-ff06-454c-9692-55e0718bac7f');\n",
              "          const dataTable =\n",
              "            await google.colab.kernel.invokeFunction('convertToInteractive',\n",
              "                                                     [key], {});\n",
              "          if (!dataTable) return;\n",
              "\n",
              "          const docLinkHtml = 'Like what you see? Visit the ' +\n",
              "            '<a target=\"_blank\" href=https://colab.research.google.com/notebooks/data_table.ipynb>data table notebook</a>'\n",
              "            + ' to learn more about interactive tables.';\n",
              "          element.innerHTML = '';\n",
              "          dataTable['output_type'] = 'display_data';\n",
              "          await google.colab.output.renderOutput(dataTable, element);\n",
              "          const docLink = document.createElement('div');\n",
              "          docLink.innerHTML = docLinkHtml;\n",
              "          element.appendChild(docLink);\n",
              "        }\n",
              "      </script>\n",
              "    </div>\n",
              "  </div>\n",
              "  "
            ]
          },
          "metadata": {},
          "execution_count": 51
        }
      ]
    },
    {
      "cell_type": "code",
      "source": [
        "test_data['clean_abs'] = test_data[' Abstract'].apply(text_cleaner)\n",
        "test_data.head()"
      ],
      "metadata": {
        "colab": {
          "base_uri": "https://localhost:8080/",
          "height": 424
        },
        "id": "In_GA3qYmEfR",
        "outputId": "ea0d0414-9f3f-4c86-958c-742d485749c3"
      },
      "id": "In_GA3qYmEfR",
      "execution_count": 52,
      "outputs": [
        {
          "output_type": "execute_result",
          "data": {
            "text/plain": [
              "            FileName  \\\n",
              "0  S0010448513001553   \n",
              "1  S0010448513002418   \n",
              "2  S0010448513001644   \n",
              "3  S0010448514000268   \n",
              "4  S0010448513001413   \n",
              "\n",
              "                                                                                                                                                                                                  Abstract  \\\n",
              "0   We explore the notion of a Well spaced Blue noise Distribution WBD of points which combines two desirable properties. First the point distribution is random as measured by its spectrum having blu...   \n",
              "1   3D garments are created by assembling 2D patterns on human models in current mainstream garment modeling methods which usually calls for professional design skills. The high coupling between the ...   \n",
              "2   We present a novel approach to feature aware mesh deformation . Previous mesh editing methods are based on an elastic deformation model and thus tend to uniformly distribute the distortion in a l...   \n",
              "3   This paper presents an algorithm for decomposing complex line drawings which depict connected 3D manifolds into multiple simpler drawings of individual manifolds . The decomposition process has t...   \n",
              "4   We present a new hybrid method for solving constrained numerical and engineering optimization problems in this paper . The proposed hybrid method takes advantage of the differential evolution abi...   \n",
              "\n",
              "                                                                                                                                                                                                 clean_abs  \n",
              "0  explore notion well spaced blue noise distribution wbd points combines two desirable properties first point distribution random measured spectrum blue noise second well spaced sense minimum separa...  \n",
              "1  garments created assembling patterns human models current mainstream garment modeling methods usually calls professional design skills high coupling pattern making garment design blocks designers ...  \n",
              "2  present novel approach feature aware mesh deformation previous mesh editing methods based elastic deformation model thus tend uniformly distribute distortion least squares sense entire deformation...  \n",
              "3  paper presents algorithm decomposing complex line drawings depict connected manifolds multiple simpler drawings individual manifolds decomposition process three stages decomposition non manifold v...  \n",
              "4  present new hybrid method solving constrained numerical engineering optimization problems paper proposed hybrid method takes advantage differential evolution ability find global optimum problems c...  "
            ],
            "text/html": [
              "\n",
              "  <div id=\"df-f2776930-7b13-4814-8778-ffb6ff446bc1\">\n",
              "    <div class=\"colab-df-container\">\n",
              "      <div>\n",
              "<style scoped>\n",
              "    .dataframe tbody tr th:only-of-type {\n",
              "        vertical-align: middle;\n",
              "    }\n",
              "\n",
              "    .dataframe tbody tr th {\n",
              "        vertical-align: top;\n",
              "    }\n",
              "\n",
              "    .dataframe thead th {\n",
              "        text-align: right;\n",
              "    }\n",
              "</style>\n",
              "<table border=\"1\" class=\"dataframe\">\n",
              "  <thead>\n",
              "    <tr style=\"text-align: right;\">\n",
              "      <th></th>\n",
              "      <th>FileName</th>\n",
              "      <th>Abstract</th>\n",
              "      <th>clean_abs</th>\n",
              "    </tr>\n",
              "  </thead>\n",
              "  <tbody>\n",
              "    <tr>\n",
              "      <th>0</th>\n",
              "      <td>S0010448513001553</td>\n",
              "      <td>We explore the notion of a Well spaced Blue noise Distribution WBD of points which combines two desirable properties. First the point distribution is random as measured by its spectrum having blu...</td>\n",
              "      <td>explore notion well spaced blue noise distribution wbd points combines two desirable properties first point distribution random measured spectrum blue noise second well spaced sense minimum separa...</td>\n",
              "    </tr>\n",
              "    <tr>\n",
              "      <th>1</th>\n",
              "      <td>S0010448513002418</td>\n",
              "      <td>3D garments are created by assembling 2D patterns on human models in current mainstream garment modeling methods which usually calls for professional design skills. The high coupling between the ...</td>\n",
              "      <td>garments created assembling patterns human models current mainstream garment modeling methods usually calls professional design skills high coupling pattern making garment design blocks designers ...</td>\n",
              "    </tr>\n",
              "    <tr>\n",
              "      <th>2</th>\n",
              "      <td>S0010448513001644</td>\n",
              "      <td>We present a novel approach to feature aware mesh deformation . Previous mesh editing methods are based on an elastic deformation model and thus tend to uniformly distribute the distortion in a l...</td>\n",
              "      <td>present novel approach feature aware mesh deformation previous mesh editing methods based elastic deformation model thus tend uniformly distribute distortion least squares sense entire deformation...</td>\n",
              "    </tr>\n",
              "    <tr>\n",
              "      <th>3</th>\n",
              "      <td>S0010448514000268</td>\n",
              "      <td>This paper presents an algorithm for decomposing complex line drawings which depict connected 3D manifolds into multiple simpler drawings of individual manifolds . The decomposition process has t...</td>\n",
              "      <td>paper presents algorithm decomposing complex line drawings depict connected manifolds multiple simpler drawings individual manifolds decomposition process three stages decomposition non manifold v...</td>\n",
              "    </tr>\n",
              "    <tr>\n",
              "      <th>4</th>\n",
              "      <td>S0010448513001413</td>\n",
              "      <td>We present a new hybrid method for solving constrained numerical and engineering optimization problems in this paper . The proposed hybrid method takes advantage of the differential evolution abi...</td>\n",
              "      <td>present new hybrid method solving constrained numerical engineering optimization problems paper proposed hybrid method takes advantage differential evolution ability find global optimum problems c...</td>\n",
              "    </tr>\n",
              "  </tbody>\n",
              "</table>\n",
              "</div>\n",
              "      <button class=\"colab-df-convert\" onclick=\"convertToInteractive('df-f2776930-7b13-4814-8778-ffb6ff446bc1')\"\n",
              "              title=\"Convert this dataframe to an interactive table.\"\n",
              "              style=\"display:none;\">\n",
              "        \n",
              "  <svg xmlns=\"http://www.w3.org/2000/svg\" height=\"24px\"viewBox=\"0 0 24 24\"\n",
              "       width=\"24px\">\n",
              "    <path d=\"M0 0h24v24H0V0z\" fill=\"none\"/>\n",
              "    <path d=\"M18.56 5.44l.94 2.06.94-2.06 2.06-.94-2.06-.94-.94-2.06-.94 2.06-2.06.94zm-11 1L8.5 8.5l.94-2.06 2.06-.94-2.06-.94L8.5 2.5l-.94 2.06-2.06.94zm10 10l.94 2.06.94-2.06 2.06-.94-2.06-.94-.94-2.06-.94 2.06-2.06.94z\"/><path d=\"M17.41 7.96l-1.37-1.37c-.4-.4-.92-.59-1.43-.59-.52 0-1.04.2-1.43.59L10.3 9.45l-7.72 7.72c-.78.78-.78 2.05 0 2.83L4 21.41c.39.39.9.59 1.41.59.51 0 1.02-.2 1.41-.59l7.78-7.78 2.81-2.81c.8-.78.8-2.07 0-2.86zM5.41 20L4 18.59l7.72-7.72 1.47 1.35L5.41 20z\"/>\n",
              "  </svg>\n",
              "      </button>\n",
              "      \n",
              "  <style>\n",
              "    .colab-df-container {\n",
              "      display:flex;\n",
              "      flex-wrap:wrap;\n",
              "      gap: 12px;\n",
              "    }\n",
              "\n",
              "    .colab-df-convert {\n",
              "      background-color: #E8F0FE;\n",
              "      border: none;\n",
              "      border-radius: 50%;\n",
              "      cursor: pointer;\n",
              "      display: none;\n",
              "      fill: #1967D2;\n",
              "      height: 32px;\n",
              "      padding: 0 0 0 0;\n",
              "      width: 32px;\n",
              "    }\n",
              "\n",
              "    .colab-df-convert:hover {\n",
              "      background-color: #E2EBFA;\n",
              "      box-shadow: 0px 1px 2px rgba(60, 64, 67, 0.3), 0px 1px 3px 1px rgba(60, 64, 67, 0.15);\n",
              "      fill: #174EA6;\n",
              "    }\n",
              "\n",
              "    [theme=dark] .colab-df-convert {\n",
              "      background-color: #3B4455;\n",
              "      fill: #D2E3FC;\n",
              "    }\n",
              "\n",
              "    [theme=dark] .colab-df-convert:hover {\n",
              "      background-color: #434B5C;\n",
              "      box-shadow: 0px 1px 3px 1px rgba(0, 0, 0, 0.15);\n",
              "      filter: drop-shadow(0px 1px 2px rgba(0, 0, 0, 0.3));\n",
              "      fill: #FFFFFF;\n",
              "    }\n",
              "  </style>\n",
              "\n",
              "      <script>\n",
              "        const buttonEl =\n",
              "          document.querySelector('#df-f2776930-7b13-4814-8778-ffb6ff446bc1 button.colab-df-convert');\n",
              "        buttonEl.style.display =\n",
              "          google.colab.kernel.accessAllowed ? 'block' : 'none';\n",
              "\n",
              "        async function convertToInteractive(key) {\n",
              "          const element = document.querySelector('#df-f2776930-7b13-4814-8778-ffb6ff446bc1');\n",
              "          const dataTable =\n",
              "            await google.colab.kernel.invokeFunction('convertToInteractive',\n",
              "                                                     [key], {});\n",
              "          if (!dataTable) return;\n",
              "\n",
              "          const docLinkHtml = 'Like what you see? Visit the ' +\n",
              "            '<a target=\"_blank\" href=https://colab.research.google.com/notebooks/data_table.ipynb>data table notebook</a>'\n",
              "            + ' to learn more about interactive tables.';\n",
              "          element.innerHTML = '';\n",
              "          dataTable['output_type'] = 'display_data';\n",
              "          await google.colab.output.renderOutput(dataTable, element);\n",
              "          const docLink = document.createElement('div');\n",
              "          docLink.innerHTML = docLinkHtml;\n",
              "          element.appendChild(docLink);\n",
              "        }\n",
              "      </script>\n",
              "    </div>\n",
              "  </div>\n",
              "  "
            ]
          },
          "metadata": {},
          "execution_count": 52
        }
      ]
    },
    {
      "cell_type": "code",
      "source": [
        "x_test = test_data['clean_abs']\n",
        "x_test   =   x_tokenizer.texts_to_sequences(x_test)\n",
        "x_test   =   pad_sequences(x_test, maxlen=max_len_text, padding='post')"
      ],
      "metadata": {
        "id": "xMFfjpXemIUz"
      },
      "id": "xMFfjpXemIUz",
      "execution_count": 53,
      "outputs": []
    },
    {
      "cell_type": "code",
      "source": [
        "l=[]\n",
        "for i in x_test:\n",
        "  a=decode_sequence(i.reshape(1,max_len_text))\n",
        "  # print(a)\n",
        "  l.append(a)"
      ],
      "metadata": {
        "id": "zPbzbEXImJj1"
      },
      "id": "zPbzbEXImJj1",
      "execution_count": 54,
      "outputs": []
    },
    {
      "cell_type": "code",
      "source": [
        "summary = np.array(l)"
      ],
      "metadata": {
        "id": "nEITRSNnmLaG"
      },
      "id": "nEITRSNnmLaG",
      "execution_count": 55,
      "outputs": []
    },
    {
      "cell_type": "code",
      "source": [
        "df = pd.DataFrame({\n",
        "    \"FileName\": test_data[\"FileName\"].values,\n",
        "    \"Abstarct\": test_data[' Abstract'].values,\n",
        "    \"RHS\":summary\n",
        "})"
      ],
      "metadata": {
        "id": "yXM7j9IkmNTT"
      },
      "id": "yXM7j9IkmNTT",
      "execution_count": 56,
      "outputs": []
    },
    {
      "cell_type": "code",
      "source": [
        "print(\"Predicted summary:\",decode_sequence(x_test[2].reshape(1,max_len_text)))\n",
        "print(\"\\n\")\n",
        "test_data.head()\n",
        "df.to_csv(\"output.csv\")\n",
        "print(\"done\")"
      ],
      "metadata": {
        "colab": {
          "base_uri": "https://localhost:8080/"
        },
        "id": "HvK-99pBmPlF",
        "outputId": "f77df464-4eda-45bb-ab4b-7c9882f4a2ec"
      },
      "id": "HvK-99pBmPlF",
      "execution_count": 59,
      "outputs": [
        {
          "output_type": "stream",
          "name": "stdout",
          "text": [
            "Predicted summary:  we propose new method for the image and object of the onlooker we propose an method to the the proposed method for the implicit problem of the proposed model is proposed to obtain the proposed model we obtain the proposed method for the proposed model is proposed to be used to the proposed method\n",
            "\n",
            "\n",
            "done\n"
          ]
        }
      ]
    },
    {
      "cell_type": "code",
      "source": [],
      "metadata": {
        "id": "D4XYJHKrmi2N"
      },
      "id": "D4XYJHKrmi2N",
      "execution_count": null,
      "outputs": []
    }
  ],
  "metadata": {
    "accelerator": "GPU",
    "colab": {
      "collapsed_sections": [],
      "provenance": []
    },
    "gpuClass": "standard",
    "kernelspec": {
      "display_name": "Python 3.8.10 64-bit",
      "language": "python",
      "name": "python3"
    },
    "language_info": {
      "codemirror_mode": {
        "name": "ipython",
        "version": 3
      },
      "file_extension": ".py",
      "mimetype": "text/x-python",
      "name": "python",
      "nbconvert_exporter": "python",
      "pygments_lexer": "ipython3",
      "version": "3.8.10"
    },
    "vscode": {
      "interpreter": {
        "hash": "916dbcbb3f70747c44a77c7bcd40155683ae19c65e1c03b4aa3499c5328201f1"
      }
    }
  },
  "nbformat": 4,
  "nbformat_minor": 5
}